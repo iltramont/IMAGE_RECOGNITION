{
 "cells": [
  {
   "cell_type": "code",
   "execution_count": 3,
   "id": "c681d615",
   "metadata": {},
   "outputs": [],
   "source": [
    "import os\n",
    "import numpy as np\n",
    "import pandas as pd\n",
    "import matplotlib.pyplot as plt\n",
    "import pickle\n",
    "import warnings\n",
    "\n",
    "from skimage.io import imread, imshow, show, imshow_collection\n",
    "from skimage.transform import resize, rescale, rotate\n",
    "\n",
    "warnings.filterwarnings('ignore')"
   ]
  },
  {
   "cell_type": "markdown",
   "id": "3d6ecd7e",
   "metadata": {},
   "source": [
    "# Prepare Data"
   ]
  },
  {
   "cell_type": "code",
   "execution_count": 2,
   "id": "54dce017",
   "metadata": {},
   "outputs": [
    {
     "name": "stdout",
     "output_type": "stream",
     "text": [
      "airplane DONE\n",
      "automobile DONE\n",
      "bird DONE\n",
      "cat DONE\n",
      "deer DONE\n",
      "dog DONE\n",
      "frog DONE\n",
      "horse DONE\n",
      "ship DONE\n",
      "truck DONE\n"
     ]
    }
   ],
   "source": [
    "categories = os.listdir(\"train\")\n",
    "\n",
    "data_train = []\n",
    "labels_train = []\n",
    "\n",
    "for category in categories:\n",
    "    for filename in os.listdir(\"train/\" + category):\n",
    "        image_path = \"train/{}/{}\".format(category, filename)\n",
    "        data_train.append(imread(image_path).flatten())\n",
    "        labels_train.append(category)\n",
    "    print(category, \"DONE\")\n",
    "\n",
    "data_train = np.asarray(data_train)\n",
    "labels_train = np.asarray(labels_train)"
   ]
  },
  {
   "cell_type": "code",
   "execution_count": 3,
   "id": "3d4fb10f",
   "metadata": {},
   "outputs": [
    {
     "name": "stdout",
     "output_type": "stream",
     "text": [
      "airplane DONE\n",
      "automobile DONE\n",
      "bird DONE\n",
      "cat DONE\n",
      "deer DONE\n",
      "dog DONE\n",
      "frog DONE\n",
      "horse DONE\n",
      "ship DONE\n",
      "truck DONE\n"
     ]
    }
   ],
   "source": [
    "categories = os.listdir(\"test\")\n",
    "\n",
    "data_test = []\n",
    "labels_test = []\n",
    "\n",
    "for category in categories:\n",
    "    for filename in os.listdir(\"test/\" + category):\n",
    "        image_path = \"test/{}/{}\".format(category, filename)\n",
    "        data_test.append(imread(image_path).flatten())\n",
    "        labels_test.append(category)\n",
    "    print(category, \"DONE\")\n",
    "\n",
    "data_test = np.asarray(data_test)\n",
    "labels_test = np.asarray(labels_test)"
   ]
  },
  {
   "cell_type": "markdown",
   "id": "25857858",
   "metadata": {},
   "source": [
    "## Split in two batches"
   ]
  },
  {
   "cell_type": "code",
   "execution_count": 11,
   "id": "d02b419b",
   "metadata": {},
   "outputs": [],
   "source": [
    "data_train_1 = data_train[: 25000]\n",
    "data_train_2 = data_train[25000: ]\n",
    "\n",
    "labels_train_1 = labels_train[: 25000]\n",
    "labels_train_2 = labels_train[25000: ]"
   ]
  },
  {
   "cell_type": "markdown",
   "id": "1c4403c4",
   "metadata": {},
   "source": [
    "## Save data with pickle"
   ]
  },
  {
   "cell_type": "code",
   "execution_count": 12,
   "id": "7c541233",
   "metadata": {},
   "outputs": [],
   "source": [
    "pickle.dump(data_train_1, open(\"data_train_flatten_batch_1.pkl\", \"wb\"))\n",
    "pickle.dump(data_train_2, open(\"data_train_flatten_batch_2.pkl\", \"wb\"))\n",
    "pickle.dump(labels_train_1, open(\"labels_train_batch_1.pkl\", \"wb\"))\n",
    "pickle.dump(labels_train_2, open(\"labels_train_batch_2.pkl\", \"wb\"))\n",
    "\n",
    "pickle.dump(data_test, open(\"data_test_flatten.pkl\", \"wb\"))\n",
    "pickle.dump(labels_test, open(\"labels_test.pkl\", \"wb\"))"
   ]
  },
  {
   "cell_type": "markdown",
   "id": "8c2a047c",
   "metadata": {},
   "source": [
    "# Black And White Data"
   ]
  },
  {
   "cell_type": "code",
   "execution_count": 4,
   "id": "5b63b7b8",
   "metadata": {},
   "outputs": [
    {
     "name": "stdout",
     "output_type": "stream",
     "text": [
      "airplane DONE\n",
      "automobile DONE\n",
      "bird DONE\n",
      "cat DONE\n",
      "deer DONE\n",
      "dog DONE\n",
      "frog DONE\n",
      "horse DONE\n",
      "ship DONE\n",
      "truck DONE\n"
     ]
    }
   ],
   "source": [
    "categories = os.listdir(\"train\")\n",
    "\n",
    "data_train_bw = []\n",
    "labels_train_bw = []\n",
    "\n",
    "for category in categories:\n",
    "    for filename in os.listdir(\"train/\" + category):\n",
    "        image_path = \"train/{}/{}\".format(category, filename)\n",
    "        data_train_bw.append(imread(image_path, as_gray=True).flatten())\n",
    "        labels_train_bw.append(category)\n",
    "    print(category, \"DONE\")\n",
    "\n",
    "data_train_bw = np.asarray(data_train_bw)\n",
    "labels_train_bw = np.asarray(labels_train_bw)"
   ]
  },
  {
   "cell_type": "code",
   "execution_count": 5,
   "id": "b9e90fc7",
   "metadata": {},
   "outputs": [
    {
     "name": "stdout",
     "output_type": "stream",
     "text": [
      "airplane DONE\n",
      "automobile DONE\n",
      "bird DONE\n",
      "cat DONE\n",
      "deer DONE\n",
      "dog DONE\n",
      "frog DONE\n",
      "horse DONE\n",
      "ship DONE\n",
      "truck DONE\n"
     ]
    }
   ],
   "source": [
    "categories = os.listdir(\"test\")\n",
    "\n",
    "data_test_bw = []\n",
    "labels_test_bw = []\n",
    "\n",
    "for category in categories:\n",
    "    for filename in os.listdir(\"test/\" + category):\n",
    "        image_path = \"test/{}/{}\".format(category, filename)\n",
    "        data_test_bw.append(imread(image_path, as_gray=True).flatten())\n",
    "        labels_test_bw.append(category)\n",
    "    print(category, \"DONE\")\n",
    "\n",
    "data_test_bw = np.asarray(data_test_bw)\n",
    "labels_test_bw = np.asarray(labels_test_bw)"
   ]
  },
  {
   "cell_type": "code",
   "execution_count": 10,
   "id": "90a0ffe0",
   "metadata": {},
   "outputs": [],
   "source": [
    "pickle.dump(data_test_bw, open(\"data_test_bw_flatten.pkl\", \"wb\"))\n",
    "pickle.dump(labels_test_bw, open(\"labels_test_bw.pkl\", \"wb\"))\n",
    "pickle.dump(data_train_bw, open(\"data_train_bw_flatten.pkl\", \"wb\"))\n",
    "pickle.dump(labels_train_bw, open(\"labels_train_bw.pkl\", \"wb\"))"
   ]
  },
  {
   "cell_type": "code",
   "execution_count": 8,
   "id": "11f61086",
   "metadata": {},
   "outputs": [
    {
     "data": {
      "text/plain": [
       "(50000, 1024)"
      ]
     },
     "execution_count": 8,
     "metadata": {},
     "output_type": "execute_result"
    }
   ],
   "source": [
    "data_train_bw.shape"
   ]
  },
  {
   "cell_type": "code",
   "execution_count": 9,
   "id": "f562192b",
   "metadata": {},
   "outputs": [
    {
     "data": {
      "text/plain": [
       "(10000, 1024)"
      ]
     },
     "execution_count": 9,
     "metadata": {},
     "output_type": "execute_result"
    }
   ],
   "source": [
    "data_test_bw.shape"
   ]
  },
  {
   "cell_type": "code",
   "execution_count": 11,
   "id": "f2214a37",
   "metadata": {},
   "outputs": [],
   "source": [
    "import sys"
   ]
  },
  {
   "cell_type": "code",
   "execution_count": 24,
   "id": "96c2bda7",
   "metadata": {},
   "outputs": [
    {
     "data": {
      "text/plain": [
       "390.62511444091797"
      ]
     },
     "execution_count": 24,
     "metadata": {},
     "output_type": "execute_result"
    }
   ],
   "source": [
    "(sys.getsizeof(data_train_bw)/1024)/1024"
   ]
  },
  {
   "cell_type": "code",
   "execution_count": 22,
   "id": "9d14853f",
   "metadata": {},
   "outputs": [
    {
     "data": {
      "text/plain": [
       "28"
      ]
     },
     "execution_count": 22,
     "metadata": {},
     "output_type": "execute_result"
    }
   ],
   "source": [
    "sys.getsizeof()"
   ]
  },
  {
   "cell_type": "code",
   "execution_count": null,
   "id": "aac84ada",
   "metadata": {},
   "outputs": [],
   "source": []
  }
 ],
 "metadata": {
  "kernelspec": {
   "display_name": "Python 3 (ipykernel)",
   "language": "python",
   "name": "python3"
  },
  "language_info": {
   "codemirror_mode": {
    "name": "ipython",
    "version": 3
   },
   "file_extension": ".py",
   "mimetype": "text/x-python",
   "name": "python",
   "nbconvert_exporter": "python",
   "pygments_lexer": "ipython3",
   "version": "3.9.13"
  }
 },
 "nbformat": 4,
 "nbformat_minor": 5
}
