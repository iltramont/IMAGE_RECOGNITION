{
 "cells": [
  {
   "cell_type": "code",
   "execution_count": 1,
   "id": "e3ee27ea",
   "metadata": {},
   "outputs": [],
   "source": [
    "import os\n",
    "import numpy as np\n",
    "import pandas as pd\n",
    "import matplotlib.pyplot as plt\n",
    "import pickle\n",
    "import warnings\n",
    "\n",
    "from sklearn.utils import shuffle\n",
    "from sklearn.preprocessing import StandardScaler\n",
    "\n",
    "from sklearn.neighbors import KNeighborsClassifier\n",
    "from sklearn.linear_model import LogisticRegression\n",
    "from sklearn.metrics import accuracy_score, f1_score, precision_score, recall_score, make_scorer\n",
    "from sklearn.metrics import confusion_matrix, ConfusionMatrixDisplay\n",
    "from sklearn.model_selection import GridSearchCV\n",
    "from sklearn.decomposition import PCA\n",
    "\n",
    "from skimage.io import imread, imshow, show, imshow_collection\n",
    "from skimage.transform import resize, rescale, rotate\n",
    "\n",
    "warnings.filterwarnings('ignore')\n",
    "\n",
    "SAVE_MODELS = False"
   ]
  },
  {
   "cell_type": "markdown",
   "id": "0c8abddd",
   "metadata": {},
   "source": [
    "# Load Data"
   ]
  },
  {
   "cell_type": "code",
   "execution_count": 2,
   "id": "a454d784",
   "metadata": {},
   "outputs": [],
   "source": [
    "data_train_1 = pickle.load(open(\"data/data_train_flatten_batch_1.pkl\", \"rb\"))\n",
    "data_train_2 = pickle.load(open(\"data/data_train_flatten_batch_2.pkl\", \"rb\"))\n",
    "labels_train_1 = pickle.load(open(\"data/labels_train_batch_1.pkl\", \"rb\"))\n",
    "labels_train_2 = pickle.load(open(\"data/labels_train_batch_2.pkl\", \"rb\"))"
   ]
  },
  {
   "cell_type": "code",
   "execution_count": 3,
   "id": "249a541f",
   "metadata": {},
   "outputs": [],
   "source": [
    "data_train = np.concatenate((data_train_1, data_train_2))\n",
    "labels_train = np.concatenate((labels_train_1, labels_train_2))"
   ]
  },
  {
   "cell_type": "code",
   "execution_count": 4,
   "id": "2413c6bf",
   "metadata": {},
   "outputs": [],
   "source": [
    "data_test = pickle.load(open(\"data/data_test_flatten.pkl\", \"rb\"))\n",
    "labels_test = pickle.load(open(\"data/labels_test.pkl\", \"rb\"))"
   ]
  },
  {
   "cell_type": "code",
   "execution_count": 5,
   "id": "f329eb44",
   "metadata": {},
   "outputs": [],
   "source": [
    "# Shuffle train set\n",
    "data_train, labels_train = shuffle(data_train, labels_train, random_state=25)"
   ]
  },
  {
   "cell_type": "markdown",
   "id": "f15b5ee8",
   "metadata": {},
   "source": [
    "# Scale Data"
   ]
  },
  {
   "cell_type": "code",
   "execution_count": 6,
   "id": "0ca82d07",
   "metadata": {},
   "outputs": [],
   "source": [
    "scaler = StandardScaler()\n",
    "\n",
    "X_train_std = scaler.fit_transform(data_train)\n",
    "X_test_std = scaler.transform(data_test)"
   ]
  },
  {
   "cell_type": "markdown",
   "id": "e9105dcb",
   "metadata": {},
   "source": [
    "# PCA\n",
    "We will use a 95% PCA"
   ]
  },
  {
   "cell_type": "code",
   "execution_count": 7,
   "id": "08182248",
   "metadata": {},
   "outputs": [
    {
     "name": "stdout",
     "output_type": "stream",
     "text": [
      "original number of features: 3072\n",
      "Number of pricipal components: 221\n"
     ]
    }
   ],
   "source": [
    "print(\"original number of features:\", X_train_std.shape[1])\n",
    "pca = PCA(0.95)\n",
    "pca.fit(X_train_std)\n",
    "print(\"Number of pricipal components:\", pca.n_components_)\n",
    "\n",
    "X_train_pca = pca.transform(X_train_std)\n",
    "X_test_pca = pca.transform(X_test_std)"
   ]
  },
  {
   "cell_type": "markdown",
   "id": "796d4ec9",
   "metadata": {},
   "source": [
    "# Train Model"
   ]
  },
  {
   "cell_type": "code",
   "execution_count": 8,
   "id": "67c67117",
   "metadata": {},
   "outputs": [
    {
     "name": "stdout",
     "output_type": "stream",
     "text": [
      "Fitting 5 folds for each of 8 candidates, totalling 40 fits\n",
      "[CV 1/5] END multi_class=multinomial, penalty=None, solver=lbfgs;, score=nan total time=   0.0s\n",
      "[CV 2/5] END multi_class=multinomial, penalty=None, solver=lbfgs;, score=nan total time=   0.0s\n",
      "[CV 3/5] END multi_class=multinomial, penalty=None, solver=lbfgs;, score=nan total time=   0.0s\n",
      "[CV 4/5] END multi_class=multinomial, penalty=None, solver=lbfgs;, score=nan total time=   0.0s\n",
      "[CV 5/5] END multi_class=multinomial, penalty=None, solver=lbfgs;, score=nan total time=   0.0s\n",
      "[CV 1/5] END multi_class=multinomial, penalty=l2, solver=lbfgs;, score=0.406 total time=  11.0s\n",
      "[CV 2/5] END multi_class=multinomial, penalty=l2, solver=lbfgs;, score=0.406 total time=  10.2s\n",
      "[CV 3/5] END multi_class=multinomial, penalty=l2, solver=lbfgs;, score=0.411 total time=   9.2s\n",
      "[CV 4/5] END multi_class=multinomial, penalty=l2, solver=lbfgs;, score=0.401 total time=   9.4s\n",
      "[CV 5/5] END multi_class=multinomial, penalty=l2, solver=lbfgs;, score=0.407 total time=   9.2s\n",
      "[CV 1/5] END multi_class=ovr, penalty=None, solver=lbfgs;, score=nan total time=   0.0s\n",
      "[CV 2/5] END multi_class=ovr, penalty=None, solver=lbfgs;, score=nan total time=   0.0s\n",
      "[CV 3/5] END multi_class=ovr, penalty=None, solver=lbfgs;, score=nan total time=   0.0s\n",
      "[CV 4/5] END multi_class=ovr, penalty=None, solver=lbfgs;, score=nan total time=   0.0s\n",
      "[CV 5/5] END multi_class=ovr, penalty=None, solver=lbfgs;, score=nan total time=   0.0s\n",
      "[CV 1/5] END multi_class=ovr, penalty=l2, solver=lbfgs;, score=0.406 total time= 1.4min\n",
      "[CV 2/5] END multi_class=ovr, penalty=l2, solver=lbfgs;, score=0.402 total time= 1.5min\n",
      "[CV 3/5] END multi_class=ovr, penalty=l2, solver=lbfgs;, score=0.406 total time= 1.6min\n",
      "[CV 4/5] END multi_class=ovr, penalty=l2, solver=lbfgs;, score=0.398 total time= 1.7min\n",
      "[CV 5/5] END multi_class=ovr, penalty=l2, solver=lbfgs;, score=0.403 total time= 1.7min\n",
      "[CV 1/5] END multi_class=multinomial, penalty=l1, solver=saga;, score=0.407 total time= 1.6min\n",
      "[CV 2/5] END multi_class=multinomial, penalty=l1, solver=saga;, score=0.406 total time= 1.5min\n",
      "[CV 3/5] END multi_class=multinomial, penalty=l1, solver=saga;, score=0.411 total time= 1.6min\n",
      "[CV 4/5] END multi_class=multinomial, penalty=l1, solver=saga;, score=0.401 total time= 1.7min\n",
      "[CV 5/5] END multi_class=multinomial, penalty=l1, solver=saga;, score=0.407 total time= 2.1min\n",
      "[CV 1/5] END multi_class=multinomial, penalty=elasticnet, solver=saga;, score=nan total time=   0.0s\n",
      "[CV 2/5] END multi_class=multinomial, penalty=elasticnet, solver=saga;, score=nan total time=   0.0s\n",
      "[CV 3/5] END multi_class=multinomial, penalty=elasticnet, solver=saga;, score=nan total time=   0.0s\n",
      "[CV 4/5] END multi_class=multinomial, penalty=elasticnet, solver=saga;, score=nan total time=   0.0s\n",
      "[CV 5/5] END multi_class=multinomial, penalty=elasticnet, solver=saga;, score=nan total time=   0.0s\n",
      "[CV 1/5] END multi_class=ovr, penalty=l1, solver=saga;, score=0.406 total time=  39.3s\n",
      "[CV 2/5] END multi_class=ovr, penalty=l1, solver=saga;, score=0.402 total time=  33.4s\n",
      "[CV 3/5] END multi_class=ovr, penalty=l1, solver=saga;, score=0.406 total time=  32.1s\n",
      "[CV 4/5] END multi_class=ovr, penalty=l1, solver=saga;, score=0.398 total time=  33.5s\n",
      "[CV 5/5] END multi_class=ovr, penalty=l1, solver=saga;, score=0.403 total time=  32.3s\n",
      "[CV 1/5] END multi_class=ovr, penalty=elasticnet, solver=saga;, score=nan total time=   0.0s\n",
      "[CV 2/5] END multi_class=ovr, penalty=elasticnet, solver=saga;, score=nan total time=   0.0s\n",
      "[CV 3/5] END multi_class=ovr, penalty=elasticnet, solver=saga;, score=nan total time=   0.0s\n",
      "[CV 4/5] END multi_class=ovr, penalty=elasticnet, solver=saga;, score=nan total time=   0.0s\n",
      "[CV 5/5] END multi_class=ovr, penalty=elasticnet, solver=saga;, score=nan total time=   0.0s\n"
     ]
    }
   ],
   "source": [
    "# Create custom scorer for tuning\n",
    "def f1_global(y_true, y_pred):\n",
    "    precision_macro = precision_score(y_true, y_pred, average=\"macro\")\n",
    "    recall_macro = recall_score(y_true, y_pred, average=\"macro\")\n",
    "    return (2 * precision_macro * recall_macro) / (precision_macro + recall_macro)\n",
    "\n",
    "f1_global_scorer = make_scorer(f1_global, greater_is_better=True)\n",
    "\n",
    "\n",
    "m = LogisticRegression(n_jobs=-1)\n",
    "\n",
    "parameters = [\n",
    "    {\n",
    "        \"solver\": [\"lbfgs\"],\n",
    "        \"penalty\": [None, \"l2\"],\n",
    "        \"multi_class\": [\"multinomial\", \"ovr\"]\n",
    "    },\n",
    "    {\n",
    "        \"solver\": [\"saga\"],\n",
    "        \"penalty\": [\"l1\", \"elasticnet\"],\n",
    "        \"multi_class\": [\"multinomial\", \"ovr\"]\n",
    "    }\n",
    "]\n",
    "\n",
    "grid_search = GridSearchCV(m, parameters, verbose=3, scoring=f1_global_scorer)\n",
    "grid_search.fit(X_train_pca, labels_train)\n",
    "model = grid_search.best_estimator_"
   ]
  },
  {
   "cell_type": "code",
   "execution_count": 9,
   "id": "93e0141d",
   "metadata": {},
   "outputs": [
    {
     "name": "stdout",
     "output_type": "stream",
     "text": [
      "MODEL OPTIMAL PARAMETERS\n",
      "solver: saga\n",
      "penalty: l1\n",
      "multi_class: multinomial\n"
     ]
    }
   ],
   "source": [
    "print(\"Model optimal parameters\".upper())\n",
    "print(\"solver:\", model.get_params()[\"solver\"])\n",
    "print(\"penalty:\", model.get_params()[\"penalty\"])\n",
    "print(\"multi_class:\", model.get_params()[\"multi_class\"])"
   ]
  },
  {
   "cell_type": "markdown",
   "id": "b99c07ba",
   "metadata": {},
   "source": [
    "# Test Model"
   ]
  },
  {
   "cell_type": "code",
   "execution_count": 10,
   "id": "bbb5a8d1",
   "metadata": {},
   "outputs": [
    {
     "name": "stdout",
     "output_type": "stream",
     "text": [
      "Accuracy score: 40.6100%\n",
      "Precision macro: 40.1039%\n",
      "Recall macro: 40.6100%\n",
      "\n",
      "F1 macro: 40.2188%\n",
      "F1 global: 40.3554%\n"
     ]
    }
   ],
   "source": [
    "predictions = model.predict(X_test_pca)\n",
    "\n",
    "accuracy = accuracy_score(labels_test, predictions)\n",
    "precision = precision_score(labels_test, predictions, average=\"macro\")\n",
    "recall = recall_score(labels_test, predictions, average=\"macro\")\n",
    "f1_macro = f1_score(labels_test, predictions, average=\"macro\")\n",
    "f1_glob = (2 * precision * recall) / (precision + recall)\n",
    "\n",
    "print(\"Accuracy score: {:.4f}%\\nPrecision macro: {:.4f}%\\nRecall macro: {:.4f}%\".format(accuracy*100,precision*100,recall*100))\n",
    "print(\"\\nF1 macro: {:.4f}%\\nF1 global: {:.4f}%\".format(f1_macro*100, f1_glob*100))"
   ]
  },
  {
   "cell_type": "code",
   "execution_count": 11,
   "id": "763ee84a",
   "metadata": {},
   "outputs": [
    {
     "data": {
      "image/png": "[encoded data removed]",
      "text/plain": [
       "<Figure size 432x288 with 2 Axes>"
      ]
     },
     "metadata": {
      "needs_background": "light"
     },
     "output_type": "display_data"
    }
   ],
   "source": [
    "cm = confusion_matrix(labels_test, predictions, labels=model.classes_)\n",
    "disp = ConfusionMatrixDisplay(confusion_matrix=cm, display_labels=model.classes_)\n",
    "disp.plot()\n",
    "plt.show()"
   ]
  },
  {
   "cell_type": "markdown",
   "id": "14abdbcb",
   "metadata": {},
   "source": [
    "# Save Model"
   ]
  },
  {
   "cell_type": "code",
   "execution_count": 12,
   "id": "57bad6ae",
   "metadata": {},
   "outputs": [],
   "source": [
    "if SAVE_MODELS:\n",
    "    model_file_name = \"lr_pca.pkl\"\n",
    "    pickle.dump(model, open(model_file_name, \"wb\"))"
   ]
  },
  {
   "cell_type": "markdown",
   "id": "a48aa211",
   "metadata": {},
   "source": [
    "# Black And White"
   ]
  },
  {
   "cell_type": "markdown",
   "id": "fcade1cc",
   "metadata": {},
   "source": [
    "## Load data"
   ]
  },
  {
   "cell_type": "code",
   "execution_count": 13,
   "id": "7a50a858",
   "metadata": {},
   "outputs": [],
   "source": [
    "train_batches = []\n",
    "labels_batches = []\n",
    "\n",
    "for i in [1, 2, 3, 4, 5]:\n",
    "    data_filepath = \"data/data_train_bw_flatten_batch_\" + str(i) + \".pkl\"\n",
    "    labels_filepath = \"data/labels_train_bw_batch_\" + str(i) + \".pkl\"\n",
    "    train_batches.append(pickle.load(open(data_filepath, \"rb\")))\n",
    "    labels_batches.append(pickle.load(open(labels_filepath, \"rb\")))\n",
    "    \n",
    "data_train_bw = np.concatenate(train_batches)\n",
    "labels_train_bw = np.concatenate(labels_batches)\n",
    "\n",
    "data_test_bw = pickle.load(open(\"data/data_test_bw_flatten.pkl\", \"rb\"))\n",
    "labels_test_bw = pickle.load(open(\"data/labels_test_bw.pkl\", \"rb\"))\n",
    "\n",
    "# Shuffle train set\n",
    "data_train_bw, labels_train_bw = shuffle(data_train_bw, labels_train_bw, random_state=25)"
   ]
  },
  {
   "cell_type": "markdown",
   "id": "48d75dd6",
   "metadata": {},
   "source": [
    "## Scale data"
   ]
  },
  {
   "cell_type": "code",
   "execution_count": 14,
   "id": "d83a1d12",
   "metadata": {},
   "outputs": [],
   "source": [
    "scaler = StandardScaler()\n",
    "\n",
    "X_train_std_bw = scaler.fit_transform(data_train_bw)\n",
    "X_test_std_bw = scaler.transform(data_test_bw)"
   ]
  },
  {
   "cell_type": "markdown",
   "id": "4f1634c9",
   "metadata": {},
   "source": [
    "## PCA\n",
    "We will use a 95% PCA"
   ]
  },
  {
   "cell_type": "code",
   "execution_count": 15,
   "id": "5726967d",
   "metadata": {},
   "outputs": [
    {
     "name": "stdout",
     "output_type": "stream",
     "text": [
      "original number of features: 1024\n",
      "Number of pricipal components: 163\n"
     ]
    }
   ],
   "source": [
    "del pca\n",
    "print(\"original number of features:\", X_train_std_bw.shape[1])\n",
    "pca = PCA(0.95)\n",
    "pca.fit(X_train_std_bw)\n",
    "print(\"Number of pricipal components:\", pca.n_components_)\n",
    "\n",
    "X_train_bw_pca = pca.transform(X_train_std_bw)\n",
    "X_test_bw_pca = pca.transform(X_test_std_bw)"
   ]
  },
  {
   "cell_type": "markdown",
   "id": "43ae8e44",
   "metadata": {},
   "source": [
    "## Train model"
   ]
  },
  {
   "cell_type": "code",
   "execution_count": 16,
   "id": "f280d3ac",
   "metadata": {},
   "outputs": [
    {
     "name": "stdout",
     "output_type": "stream",
     "text": [
      "Fitting 5 folds for each of 8 candidates, totalling 40 fits\n",
      "[CV 1/5] END multi_class=multinomial, penalty=None, solver=lbfgs;, score=nan total time=   0.0s\n",
      "[CV 2/5] END multi_class=multinomial, penalty=None, solver=lbfgs;, score=nan total time=   0.0s\n",
      "[CV 3/5] END multi_class=multinomial, penalty=None, solver=lbfgs;, score=nan total time=   0.0s\n",
      "[CV 4/5] END multi_class=multinomial, penalty=None, solver=lbfgs;, score=nan total time=   0.0s\n",
      "[CV 5/5] END multi_class=multinomial, penalty=None, solver=lbfgs;, score=nan total time=   0.0s\n",
      "[CV 1/5] END multi_class=multinomial, penalty=l2, solver=lbfgs;, score=0.302 total time=  14.1s\n",
      "[CV 2/5] END multi_class=multinomial, penalty=l2, solver=lbfgs;, score=0.300 total time=  13.8s\n",
      "[CV 3/5] END multi_class=multinomial, penalty=l2, solver=lbfgs;, score=0.292 total time=  15.3s\n",
      "[CV 4/5] END multi_class=multinomial, penalty=l2, solver=lbfgs;, score=0.298 total time=  14.3s\n",
      "[CV 5/5] END multi_class=multinomial, penalty=l2, solver=lbfgs;, score=0.298 total time=  13.4s\n",
      "[CV 1/5] END multi_class=ovr, penalty=None, solver=lbfgs;, score=nan total time=   0.0s\n",
      "[CV 2/5] END multi_class=ovr, penalty=None, solver=lbfgs;, score=nan total time=   0.0s\n",
      "[CV 3/5] END multi_class=ovr, penalty=None, solver=lbfgs;, score=nan total time=   0.0s\n",
      "[CV 4/5] END multi_class=ovr, penalty=None, solver=lbfgs;, score=nan total time=   0.0s\n",
      "[CV 5/5] END multi_class=ovr, penalty=None, solver=lbfgs;, score=nan total time=   0.0s\n",
      "[CV 1/5] END multi_class=ovr, penalty=l2, solver=lbfgs;, score=0.304 total time= 1.4min\n",
      "[CV 2/5] END multi_class=ovr, penalty=l2, solver=lbfgs;, score=0.298 total time= 1.4min\n",
      "[CV 3/5] END multi_class=ovr, penalty=l2, solver=lbfgs;, score=0.290 total time= 1.4min\n",
      "[CV 4/5] END multi_class=ovr, penalty=l2, solver=lbfgs;, score=0.297 total time= 1.4min\n",
      "[CV 5/5] END multi_class=ovr, penalty=l2, solver=lbfgs;, score=0.297 total time= 1.4min\n",
      "[CV 1/5] END multi_class=multinomial, penalty=l1, solver=saga;, score=0.302 total time= 1.5min\n",
      "[CV 2/5] END multi_class=multinomial, penalty=l1, solver=saga;, score=0.300 total time= 1.1min\n",
      "[CV 3/5] END multi_class=multinomial, penalty=l1, solver=saga;, score=0.291 total time= 1.1min\n",
      "[CV 4/5] END multi_class=multinomial, penalty=l1, solver=saga;, score=0.298 total time= 1.1min\n",
      "[CV 5/5] END multi_class=multinomial, penalty=l1, solver=saga;, score=0.298 total time= 1.1min\n",
      "[CV 1/5] END multi_class=multinomial, penalty=elasticnet, solver=saga;, score=nan total time=   0.0s\n",
      "[CV 2/5] END multi_class=multinomial, penalty=elasticnet, solver=saga;, score=nan total time=   0.0s\n",
      "[CV 3/5] END multi_class=multinomial, penalty=elasticnet, solver=saga;, score=nan total time=   0.0s\n",
      "[CV 4/5] END multi_class=multinomial, penalty=elasticnet, solver=saga;, score=nan total time=   0.0s\n",
      "[CV 5/5] END multi_class=multinomial, penalty=elasticnet, solver=saga;, score=nan total time=   0.0s\n",
      "[CV 1/5] END multi_class=ovr, penalty=l1, solver=saga;, score=0.304 total time=   9.1s\n",
      "[CV 2/5] END multi_class=ovr, penalty=l1, solver=saga;, score=0.298 total time=   8.1s\n",
      "[CV 3/5] END multi_class=ovr, penalty=l1, solver=saga;, score=0.291 total time=  12.5s\n",
      "[CV 4/5] END multi_class=ovr, penalty=l1, solver=saga;, score=0.297 total time=  12.7s\n",
      "[CV 5/5] END multi_class=ovr, penalty=l1, solver=saga;, score=0.297 total time=  12.9s\n",
      "[CV 1/5] END multi_class=ovr, penalty=elasticnet, solver=saga;, score=nan total time=   0.0s\n",
      "[CV 2/5] END multi_class=ovr, penalty=elasticnet, solver=saga;, score=nan total time=   0.0s\n",
      "[CV 3/5] END multi_class=ovr, penalty=elasticnet, solver=saga;, score=nan total time=   0.0s\n",
      "[CV 4/5] END multi_class=ovr, penalty=elasticnet, solver=saga;, score=nan total time=   0.0s\n",
      "[CV 5/5] END multi_class=ovr, penalty=elasticnet, solver=saga;, score=nan total time=   0.0s\n"
     ]
    }
   ],
   "source": [
    "m = LogisticRegression(n_jobs=-1)\n",
    "\n",
    "parameters = [\n",
    "    {\n",
    "        \"solver\": [\"lbfgs\"],\n",
    "        \"penalty\": [None, \"l2\"],\n",
    "        \"multi_class\": [\"multinomial\", \"ovr\"]\n",
    "    },\n",
    "    {\n",
    "        \"solver\": [\"saga\"],\n",
    "        \"penalty\": [\"l1\", \"elasticnet\"],\n",
    "        \"multi_class\": [\"multinomial\", \"ovr\"]\n",
    "    }\n",
    "]\n",
    "\n",
    "grid_search = GridSearchCV(m, parameters, verbose=3, scoring=f1_global_scorer)\n",
    "grid_search.fit(X_train_bw_pca, labels_train_bw)\n",
    "model_bw = grid_search.best_estimator_"
   ]
  },
  {
   "cell_type": "code",
   "execution_count": 17,
   "id": "1521c0bb",
   "metadata": {},
   "outputs": [
    {
     "name": "stdout",
     "output_type": "stream",
     "text": [
      "MODEL OPTIMAL PARAMETERS\n",
      "solver: lbfgs\n",
      "penalty: l2\n",
      "multi_class: multinomial\n"
     ]
    }
   ],
   "source": [
    "print(\"Model optimal parameters\".upper())\n",
    "print(\"solver:\", model_bw.get_params()[\"solver\"])\n",
    "print(\"penalty:\", model_bw.get_params()[\"penalty\"])\n",
    "print(\"multi_class:\", model_bw.get_params()[\"multi_class\"])"
   ]
  },
  {
   "cell_type": "markdown",
   "id": "e308dcf7",
   "metadata": {},
   "source": [
    "## Test model"
   ]
  },
  {
   "cell_type": "code",
   "execution_count": 18,
   "id": "7aa90b28",
   "metadata": {},
   "outputs": [
    {
     "name": "stdout",
     "output_type": "stream",
     "text": [
      "Accuracy score: 30.5300%\n",
      "Precision macro: 29.9176%\n",
      "Recall macro: 30.5300%\n",
      "F1 macro: 30.0276%\n",
      "F1 global: 30.2207\n"
     ]
    }
   ],
   "source": [
    "predictions_bw = model_bw.predict(X_test_bw_pca)\n",
    "\n",
    "accuracy_bw = accuracy_score(labels_test_bw, predictions_bw)\n",
    "precision_bw = precision_score(labels_test_bw, predictions_bw, average=\"macro\")\n",
    "recall_bw = recall_score(labels_test_bw, predictions_bw, average=\"macro\")\n",
    "f1_macro_bw = f1_score(labels_test_bw, predictions_bw, average=\"macro\")\n",
    "f1_glob_bw = (2 * precision_bw * recall_bw) / (precision_bw + recall_bw)\n",
    "\n",
    "print(\"Accuracy score: {:.4f}%\\nPrecision macro: {:.4f}%\\nRecall macro: {:.4f}%\".format(accuracy_bw*100,precision_bw*100,recall_bw*100))\n",
    "print(\"F1 macro: {:.4f}%\\nF1 global: {:.4f}\".format(f1_macro_bw*100, f1_glob_bw*100))"
   ]
  },
  {
   "cell_type": "code",
   "execution_count": 19,
   "id": "4176f7a7",
   "metadata": {},
   "outputs": [
    {
     "data": {
      "text/plain": [
       "[]"
      ]
     },
     "execution_count": 19,
     "metadata": {},
     "output_type": "execute_result"
    },
    {
     "data": {
      "image/png": "[encoded data removed]",
      "text/plain": [
       "<Figure size 432x288 with 2 Axes>"
      ]
     },
     "metadata": {
      "needs_background": "light"
     },
     "output_type": "display_data"
    }
   ],
   "source": [
    "cm = confusion_matrix(labels_test_bw, predictions_bw, labels=model_bw.classes_)\n",
    "disp = ConfusionMatrixDisplay(confusion_matrix=cm, display_labels=model_bw.classes_)\n",
    "disp.plot()\n",
    "plt.plot()"
   ]
  },
  {
   "cell_type": "markdown",
   "id": "f803d4eb",
   "metadata": {},
   "source": [
    "## Save model"
   ]
  },
  {
   "cell_type": "code",
   "execution_count": 20,
   "id": "8b503052",
   "metadata": {},
   "outputs": [],
   "source": [
    "if SAVE_MODELS:\n",
    "    model_file_name_bw = \"lr_bw_pca.pkl\"\n",
    "    pickle.dump(model_bw, open(model_file_name_bw, \"wb\"))"
   ]
  },
  {
   "cell_type": "code",
   "execution_count": null,
   "id": "5e9f2fbb",
   "metadata": {},
   "outputs": [],
   "source": []
  }
 ],
 "metadata": {
  "kernelspec": {
   "display_name": "Python 3 (ipykernel)",
   "language": "python",
   "name": "python3"
  },
  "language_info": {
   "codemirror_mode": {
    "name": "ipython",
    "version": 3
   },
   "file_extension": ".py",
   "mimetype": "text/x-python",
   "name": "python",
   "nbconvert_exporter": "python",
   "pygments_lexer": "ipython3",
   "version": "3.9.13"
  }
 },
 "nbformat": 4,
 "nbformat_minor": 5
}
