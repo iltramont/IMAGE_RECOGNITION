{
 "cells": [
  {
   "cell_type": "code",
   "execution_count": 1,
   "id": "1cc421e6",
   "metadata": {},
   "outputs": [],
   "source": [
    "import numpy as np\n",
    "import pandas as pd\n",
    "import pickle\n",
    "import warnings\n",
    "\n",
    "from sklearn.utils import shuffle\n",
    "from sklearn.preprocessing import StandardScaler\n",
    "from sklearn.decomposition import PCA\n",
    "\n",
    "from sklearn.neighbors import KNeighborsClassifier\n",
    "from sklearn.linear_model import LogisticRegression\n",
    "from sklearn.ensemble import RandomForestClassifier\n",
    "\n",
    "warnings.filterwarnings('ignore')"
   ]
  },
  {
   "cell_type": "markdown",
   "id": "4363b836",
   "metadata": {},
   "source": [
    "# Data"
   ]
  },
  {
   "cell_type": "markdown",
   "id": "7536cf11",
   "metadata": {},
   "source": [
    "## Load  RGB data"
   ]
  },
  {
   "cell_type": "code",
   "execution_count": 2,
   "id": "b9677751",
   "metadata": {},
   "outputs": [],
   "source": [
    "data_train_1 = pickle.load(open(\"data/data_train_flatten_batch_1.pkl\", \"rb\"))\n",
    "data_train_2 = pickle.load(open(\"data/data_train_flatten_batch_2.pkl\", \"rb\"))\n",
    "labels_train_1 = pickle.load(open(\"data/labels_train_batch_1.pkl\", \"rb\"))\n",
    "labels_train_2 = pickle.load(open(\"data/labels_train_batch_2.pkl\", \"rb\"))\n",
    "\n",
    "data_train = np.concatenate((data_train_1, data_train_2))\n",
    "labels_train = np.concatenate((labels_train_1, labels_train_2))\n",
    "\n",
    "data_test = pickle.load(open(\"data/data_test_flatten.pkl\", \"rb\"))\n",
    "labels_test = pickle.load(open(\"data/labels_test.pkl\", \"rb\"))\n",
    "\n",
    "# Shuffle train set\n",
    "data_train, labels_train = shuffle(data_train, labels_train, random_state=25)"
   ]
  },
  {
   "cell_type": "markdown",
   "id": "8ae5c1ad",
   "metadata": {},
   "source": [
    "## Load black and white data"
   ]
  },
  {
   "cell_type": "code",
   "execution_count": 3,
   "id": "807ff9e4",
   "metadata": {},
   "outputs": [],
   "source": [
    "train_batches = []\n",
    "labels_batches = []\n",
    "\n",
    "for i in [1, 2, 3, 4, 5]:\n",
    "    data_filepath = \"data/data_train_bw_flatten_batch_\" + str(i) + \".pkl\"\n",
    "    labels_filepath = \"data/labels_train_bw_batch_\" + str(i) + \".pkl\"\n",
    "    train_batches.append(pickle.load(open(data_filepath, \"rb\")))\n",
    "    labels_batches.append(pickle.load(open(labels_filepath, \"rb\")))\n",
    "    \n",
    "data_train_bw = np.concatenate(train_batches)\n",
    "labels_train_bw = np.concatenate(labels_batches)\n",
    "\n",
    "data_test_bw = pickle.load(open(\"data/data_test_bw_flatten.pkl\", \"rb\"))\n",
    "labels_test_bw = pickle.load(open(\"data/labels_test_bw.pkl\", \"rb\"))\n",
    "\n",
    "# Shuffle train set\n",
    "data_train_bw, labels_train_bw = shuffle(data_train_bw, labels_train_bw, random_state=25)"
   ]
  },
  {
   "cell_type": "markdown",
   "id": "2d3dbe2c",
   "metadata": {},
   "source": [
    "## Scaling"
   ]
  },
  {
   "cell_type": "code",
   "execution_count": 4,
   "id": "c7660f61",
   "metadata": {},
   "outputs": [],
   "source": [
    "# Scale\n",
    "scaler = StandardScaler()\n",
    "\n",
    "X_train_std = scaler.fit_transform(data_train)\n",
    "X_test_std = scaler.transform(data_test)\n",
    "\n",
    "scaler_bw = StandardScaler()\n",
    "\n",
    "X_train_std_bw = scaler_bw.fit_transform(data_train_bw)\n",
    "X_test_std_bw = scaler_bw.transform(data_test_bw)"
   ]
  },
  {
   "cell_type": "markdown",
   "id": "d5a06114",
   "metadata": {},
   "source": [
    "## PCA\n",
    "We will use a 95% PCA"
   ]
  },
  {
   "cell_type": "code",
   "execution_count": 5,
   "id": "6a08ecb2",
   "metadata": {},
   "outputs": [
    {
     "name": "stdout",
     "output_type": "stream",
     "text": [
      "Original number of features RGB: 3072\n",
      "Number of pricipal components RGB: 221\n",
      "Original number of features black and white: 1024\n",
      "Number of pricipal components black and white: 163\n"
     ]
    }
   ],
   "source": [
    "print(\"Original number of features RGB:\", X_train_std.shape[1])\n",
    "pca = PCA(0.95)\n",
    "pca.fit(X_train_std)\n",
    "print(\"Number of pricipal components RGB:\", pca.n_components_)\n",
    "\n",
    "X_train_pca = pca.transform(X_train_std)\n",
    "X_test_pca = pca.transform(X_test_std)\n",
    "\n",
    "print(\"Original number of features black and white:\", X_train_std_bw.shape[1])\n",
    "pca_bw = PCA(0.95)\n",
    "pca_bw.fit(X_train_std_bw)\n",
    "print(\"Number of pricipal components black and white:\", pca_bw.n_components_)\n",
    "\n",
    "X_train_bw_pca = pca_bw.transform(X_train_std_bw)\n",
    "X_test_bw_pca = pca_bw.transform(X_test_std_bw)"
   ]
  },
  {
   "cell_type": "markdown",
   "id": "51688168",
   "metadata": {},
   "source": [
    "# Models\n",
    "We will use the hyperparameters obtained with the other notebooks"
   ]
  },
  {
   "cell_type": "code",
   "execution_count": 6,
   "id": "5dbfca41",
   "metadata": {},
   "outputs": [
    {
     "name": "stdout",
     "output_type": "stream",
     "text": [
      "KNN complete\n"
     ]
    }
   ],
   "source": [
    "knn = KNeighborsClassifier(n_neighbors=8, weights=\"distance\", n_jobs=-1).fit(X_train_std, labels_train)\n",
    "knn_bw = KNeighborsClassifier(n_neighbors=11, weights=\"distance\", n_jobs=-1).fit(X_train_std_bw, labels_train)\n",
    "knn_pca = KNeighborsClassifier(n_neighbors=6, weights=\"distance\", n_jobs=-1).fit(X_train_pca, labels_train)\n",
    "knn_bw_pca = KNeighborsClassifier(n_neighbors=10, weights=\"distance\", n_jobs=-1).fit(X_train_bw_pca, labels_train)\n",
    "print(\"KNN complete\")"
   ]
  },
  {
   "cell_type": "code",
   "execution_count": 8,
   "id": "b3e7b64d",
   "metadata": {},
   "outputs": [
    {
     "name": "stdout",
     "output_type": "stream",
     "text": [
      "Logistic Regression complete\n"
     ]
    }
   ],
   "source": [
    "lr = LogisticRegression(penalty=\"l2\", solver=\"lbfgs\", multi_class=\"multinomial\").fit(X_train_std, labels_train)\n",
    "lr_bw = LogisticRegression(penalty=\"l1\", solver=\"saga\", multi_class=\"multinomial\").fit(X_train_std_bw, labels_train)\n",
    "lr_pca = LogisticRegression(penalty=\"l1\", solver=\"saga\", multi_class=\"multinomial\").fit(X_train_pca, labels_train)\n",
    "lr_bw_pca = LogisticRegression(penalty=\"l2\", solver=\"lbfgs\", multi_class=\"multinomial\").fit(X_train_bw_pca, labels_train)\n",
    "print(\"Logistic Regression complete\")"
   ]
  },
  {
   "cell_type": "code",
   "execution_count": 9,
   "id": "ec66ba8f",
   "metadata": {},
   "outputs": [
    {
     "name": "stdout",
     "output_type": "stream",
     "text": [
      "Random Forest complete\n"
     ]
    }
   ],
   "source": [
    "rf = RandomForestClassifier(criterion=\"gini\", max_features=\"sqrt\", random_state=25, n_jobs=4).fit(X_train_std, labels_train)\n",
    "rf_bw = RandomForestClassifier(criterion=\"gini\", max_features=\"sqrt\", random_state=25, n_jobs=4).fit(X_train_std_bw, labels_train)\n",
    "rf_pca = RandomForestClassifier(criterion=\"gini\", max_features=\"sqrt\", random_state=25, n_jobs=4).fit(X_train_pca, labels_train)\n",
    "rf_bw_pca = RandomForestClassifier(criterion=\"gini\", max_features=\"sqrt\", random_state=25, n_jobs=4).fit(X_train_bw_pca, labels_train)\n",
    "print(\"Random Forest complete\")"
   ]
  },
  {
   "cell_type": "code",
   "execution_count": 10,
   "id": "5aa3c60f",
   "metadata": {},
   "outputs": [],
   "source": [
    "models = {\n",
    "    \"knn\": knn,\n",
    "    \"knn_bw\": knn_bw,\n",
    "    \"knn_pca\": knn_pca,\n",
    "    \"knn_bw_pca\": knn_bw_pca,\n",
    "    \"lr\": lr,\n",
    "    \"lr_bw\": lr_bw,\n",
    "    \"lr_pca\": lr_pca,\n",
    "    \"lr_bw_pca\": lr_bw_pca,\n",
    "    \"rf\": rf,\n",
    "    \"rf_bw\": rf_bw,\n",
    "    \"rf_pca\": rf_pca,\n",
    "    \"rf_bw_pca\": rf_bw_pca\n",
    "}"
   ]
  },
  {
   "cell_type": "code",
   "execution_count": 18,
   "id": "eaa01b2e",
   "metadata": {},
   "outputs": [],
   "source": [
    "# Save models with pickle\n",
    "for key, m in models.items():\n",
    "    file_name = key + \".pkl\"\n",
    "    pickle.dump(m, open(file_name, \"wb\"))"
   ]
  },
  {
   "cell_type": "markdown",
   "id": "ff64c28a",
   "metadata": {},
   "source": [
    "# Predictions"
   ]
  },
  {
   "cell_type": "code",
   "execution_count": 20,
   "id": "993895e0",
   "metadata": {},
   "outputs": [],
   "source": [
    "# Check test_bw equal to test_rgb\n",
    "for i, j in zip(labels_test, labels_test_bw):\n",
    "    if i!=j:\n",
    "        print(\"Error!\")"
   ]
  },
  {
   "cell_type": "code",
   "execution_count": 21,
   "id": "5a3c03cf",
   "metadata": {},
   "outputs": [],
   "source": [
    "predictions = dict()\n",
    "predictions[\"groundtruth\"] = labels_test\n",
    "for key in models.keys():\n",
    "    if \"_bw_pca\" in key:\n",
    "        predictions[key] = models[key].predict(X_test_bw_pca)\n",
    "    elif \"_pca\" in key:\n",
    "        predictions[key] = models[key].predict(X_test_pca)\n",
    "    elif \"_bw\" in key:\n",
    "        predictions[key] = models[key].predict(X_test_std_bw)\n",
    "    else:\n",
    "        predictions[key] = models[key].predict(X_test_std)"
   ]
  },
  {
   "cell_type": "code",
   "execution_count": 22,
   "id": "c2494fcf",
   "metadata": {},
   "outputs": [],
   "source": [
    "predictions_df = pd.DataFrame(predictions)"
   ]
  },
  {
   "cell_type": "code",
   "execution_count": 23,
   "id": "5589f75a",
   "metadata": {},
   "outputs": [
    {
     "data": {
      "text/html": [
       "<div>\n",
       "<style scoped>\n",
       "    .dataframe tbody tr th:only-of-type {\n",
       "        vertical-align: middle;\n",
       "    }\n",
       "\n",
       "    .dataframe tbody tr th {\n",
       "        vertical-align: top;\n",
       "    }\n",
       "\n",
       "    .dataframe thead th {\n",
       "        text-align: right;\n",
       "    }\n",
       "</style>\n",
       "<table border=\"1\" class=\"dataframe\">\n",
       "  <thead>\n",
       "    <tr style=\"text-align: right;\">\n",
       "      <th></th>\n",
       "      <th>groundtruth</th>\n",
       "      <th>knn</th>\n",
       "      <th>knn_bw</th>\n",
       "      <th>knn_pca</th>\n",
       "      <th>knn_bw_pca</th>\n",
       "      <th>lr</th>\n",
       "      <th>lr_bw</th>\n",
       "      <th>lr_pca</th>\n",
       "      <th>lr_bw_pca</th>\n",
       "      <th>rf</th>\n",
       "      <th>rf_bw</th>\n",
       "      <th>rf_pca</th>\n",
       "      <th>rf_bw_pca</th>\n",
       "    </tr>\n",
       "  </thead>\n",
       "  <tbody>\n",
       "    <tr>\n",
       "      <th>0</th>\n",
       "      <td>airplane</td>\n",
       "      <td>airplane</td>\n",
       "      <td>airplane</td>\n",
       "      <td>airplane</td>\n",
       "      <td>ship</td>\n",
       "      <td>airplane</td>\n",
       "      <td>ship</td>\n",
       "      <td>airplane</td>\n",
       "      <td>ship</td>\n",
       "      <td>ship</td>\n",
       "      <td>ship</td>\n",
       "      <td>airplane</td>\n",
       "      <td>ship</td>\n",
       "    </tr>\n",
       "    <tr>\n",
       "      <th>1</th>\n",
       "      <td>airplane</td>\n",
       "      <td>airplane</td>\n",
       "      <td>cat</td>\n",
       "      <td>airplane</td>\n",
       "      <td>cat</td>\n",
       "      <td>ship</td>\n",
       "      <td>cat</td>\n",
       "      <td>ship</td>\n",
       "      <td>cat</td>\n",
       "      <td>ship</td>\n",
       "      <td>airplane</td>\n",
       "      <td>airplane</td>\n",
       "      <td>frog</td>\n",
       "    </tr>\n",
       "    <tr>\n",
       "      <th>2</th>\n",
       "      <td>airplane</td>\n",
       "      <td>airplane</td>\n",
       "      <td>airplane</td>\n",
       "      <td>airplane</td>\n",
       "      <td>airplane</td>\n",
       "      <td>airplane</td>\n",
       "      <td>airplane</td>\n",
       "      <td>airplane</td>\n",
       "      <td>airplane</td>\n",
       "      <td>airplane</td>\n",
       "      <td>airplane</td>\n",
       "      <td>bird</td>\n",
       "      <td>airplane</td>\n",
       "    </tr>\n",
       "    <tr>\n",
       "      <th>3</th>\n",
       "      <td>airplane</td>\n",
       "      <td>truck</td>\n",
       "      <td>deer</td>\n",
       "      <td>truck</td>\n",
       "      <td>deer</td>\n",
       "      <td>bird</td>\n",
       "      <td>airplane</td>\n",
       "      <td>bird</td>\n",
       "      <td>airplane</td>\n",
       "      <td>horse</td>\n",
       "      <td>horse</td>\n",
       "      <td>bird</td>\n",
       "      <td>truck</td>\n",
       "    </tr>\n",
       "    <tr>\n",
       "      <th>4</th>\n",
       "      <td>airplane</td>\n",
       "      <td>airplane</td>\n",
       "      <td>ship</td>\n",
       "      <td>airplane</td>\n",
       "      <td>ship</td>\n",
       "      <td>airplane</td>\n",
       "      <td>cat</td>\n",
       "      <td>airplane</td>\n",
       "      <td>frog</td>\n",
       "      <td>airplane</td>\n",
       "      <td>bird</td>\n",
       "      <td>ship</td>\n",
       "      <td>deer</td>\n",
       "    </tr>\n",
       "    <tr>\n",
       "      <th>...</th>\n",
       "      <td>...</td>\n",
       "      <td>...</td>\n",
       "      <td>...</td>\n",
       "      <td>...</td>\n",
       "      <td>...</td>\n",
       "      <td>...</td>\n",
       "      <td>...</td>\n",
       "      <td>...</td>\n",
       "      <td>...</td>\n",
       "      <td>...</td>\n",
       "      <td>...</td>\n",
       "      <td>...</td>\n",
       "      <td>...</td>\n",
       "    </tr>\n",
       "    <tr>\n",
       "      <th>9995</th>\n",
       "      <td>truck</td>\n",
       "      <td>airplane</td>\n",
       "      <td>airplane</td>\n",
       "      <td>airplane</td>\n",
       "      <td>airplane</td>\n",
       "      <td>airplane</td>\n",
       "      <td>airplane</td>\n",
       "      <td>airplane</td>\n",
       "      <td>airplane</td>\n",
       "      <td>airplane</td>\n",
       "      <td>airplane</td>\n",
       "      <td>truck</td>\n",
       "      <td>airplane</td>\n",
       "    </tr>\n",
       "    <tr>\n",
       "      <th>9996</th>\n",
       "      <td>truck</td>\n",
       "      <td>ship</td>\n",
       "      <td>ship</td>\n",
       "      <td>ship</td>\n",
       "      <td>ship</td>\n",
       "      <td>truck</td>\n",
       "      <td>truck</td>\n",
       "      <td>truck</td>\n",
       "      <td>truck</td>\n",
       "      <td>ship</td>\n",
       "      <td>ship</td>\n",
       "      <td>truck</td>\n",
       "      <td>ship</td>\n",
       "    </tr>\n",
       "    <tr>\n",
       "      <th>9997</th>\n",
       "      <td>truck</td>\n",
       "      <td>truck</td>\n",
       "      <td>truck</td>\n",
       "      <td>truck</td>\n",
       "      <td>truck</td>\n",
       "      <td>truck</td>\n",
       "      <td>truck</td>\n",
       "      <td>truck</td>\n",
       "      <td>truck</td>\n",
       "      <td>truck</td>\n",
       "      <td>truck</td>\n",
       "      <td>truck</td>\n",
       "      <td>truck</td>\n",
       "    </tr>\n",
       "    <tr>\n",
       "      <th>9998</th>\n",
       "      <td>truck</td>\n",
       "      <td>frog</td>\n",
       "      <td>deer</td>\n",
       "      <td>frog</td>\n",
       "      <td>deer</td>\n",
       "      <td>automobile</td>\n",
       "      <td>automobile</td>\n",
       "      <td>automobile</td>\n",
       "      <td>automobile</td>\n",
       "      <td>truck</td>\n",
       "      <td>truck</td>\n",
       "      <td>automobile</td>\n",
       "      <td>automobile</td>\n",
       "    </tr>\n",
       "    <tr>\n",
       "      <th>9999</th>\n",
       "      <td>truck</td>\n",
       "      <td>airplane</td>\n",
       "      <td>airplane</td>\n",
       "      <td>airplane</td>\n",
       "      <td>airplane</td>\n",
       "      <td>cat</td>\n",
       "      <td>truck</td>\n",
       "      <td>truck</td>\n",
       "      <td>truck</td>\n",
       "      <td>truck</td>\n",
       "      <td>truck</td>\n",
       "      <td>truck</td>\n",
       "      <td>truck</td>\n",
       "    </tr>\n",
       "  </tbody>\n",
       "</table>\n",
       "<p>10000 rows × 13 columns</p>\n",
       "</div>"
      ],
      "text/plain": [
       "     groundtruth       knn    knn_bw   knn_pca knn_bw_pca          lr  \\\n",
       "0       airplane  airplane  airplane  airplane       ship    airplane   \n",
       "1       airplane  airplane       cat  airplane        cat        ship   \n",
       "2       airplane  airplane  airplane  airplane   airplane    airplane   \n",
       "3       airplane     truck      deer     truck       deer        bird   \n",
       "4       airplane  airplane      ship  airplane       ship    airplane   \n",
       "...          ...       ...       ...       ...        ...         ...   \n",
       "9995       truck  airplane  airplane  airplane   airplane    airplane   \n",
       "9996       truck      ship      ship      ship       ship       truck   \n",
       "9997       truck     truck     truck     truck      truck       truck   \n",
       "9998       truck      frog      deer      frog       deer  automobile   \n",
       "9999       truck  airplane  airplane  airplane   airplane         cat   \n",
       "\n",
       "           lr_bw      lr_pca   lr_bw_pca        rf     rf_bw      rf_pca  \\\n",
       "0           ship    airplane        ship      ship      ship    airplane   \n",
       "1            cat        ship         cat      ship  airplane    airplane   \n",
       "2       airplane    airplane    airplane  airplane  airplane        bird   \n",
       "3       airplane        bird    airplane     horse     horse        bird   \n",
       "4            cat    airplane        frog  airplane      bird        ship   \n",
       "...          ...         ...         ...       ...       ...         ...   \n",
       "9995    airplane    airplane    airplane  airplane  airplane       truck   \n",
       "9996       truck       truck       truck      ship      ship       truck   \n",
       "9997       truck       truck       truck     truck     truck       truck   \n",
       "9998  automobile  automobile  automobile     truck     truck  automobile   \n",
       "9999       truck       truck       truck     truck     truck       truck   \n",
       "\n",
       "       rf_bw_pca  \n",
       "0           ship  \n",
       "1           frog  \n",
       "2       airplane  \n",
       "3          truck  \n",
       "4           deer  \n",
       "...          ...  \n",
       "9995    airplane  \n",
       "9996        ship  \n",
       "9997       truck  \n",
       "9998  automobile  \n",
       "9999       truck  \n",
       "\n",
       "[10000 rows x 13 columns]"
      ]
     },
     "metadata": {},
     "output_type": "display_data"
    }
   ],
   "source": [
    "display(predictions_df)"
   ]
  },
  {
   "cell_type": "code",
   "execution_count": 24,
   "id": "ef5def72",
   "metadata": {},
   "outputs": [],
   "source": [
    "# Save DataFrame\n",
    "predictions_df.to_csv(\"predictions.csv\", index=False)"
   ]
  },
  {
   "cell_type": "code",
   "execution_count": null,
   "id": "1a01d626",
   "metadata": {},
   "outputs": [],
   "source": []
  }
 ],
 "metadata": {
  "kernelspec": {
   "display_name": "Python 3 (ipykernel)",
   "language": "python",
   "name": "python3"
  },
  "language_info": {
   "codemirror_mode": {
    "name": "ipython",
    "version": 3
   },
   "file_extension": ".py",
   "mimetype": "text/x-python",
   "name": "python",
   "nbconvert_exporter": "python",
   "pygments_lexer": "ipython3",
   "version": "3.9.12"
  }
 },
 "nbformat": 4,
 "nbformat_minor": 5
}
