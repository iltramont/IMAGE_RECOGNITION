{
 "cells": [
  {
   "cell_type": "code",
   "execution_count": 1,
   "id": "97af190a",
   "metadata": {},
   "outputs": [],
   "source": [
    "import numpy as np\n",
    "import pandas as pd\n",
    "from sklearn.model_selection import KFold"
   ]
  },
  {
   "cell_type": "code",
   "execution_count": 2,
   "id": "00c3d28e",
   "metadata": {},
   "outputs": [],
   "source": [
    "x = np.array([i for i in range(50)])"
   ]
  },
  {
   "cell_type": "code",
   "execution_count": 3,
   "id": "8b9bf825",
   "metadata": {},
   "outputs": [],
   "source": [
    "y = 2*x"
   ]
  },
  {
   "cell_type": "code",
   "execution_count": null,
   "id": "c3eb154a",
   "metadata": {},
   "outputs": [],
   "source": []
  },
  {
   "cell_type": "code",
   "execution_count": 15,
   "id": "02c499fd",
   "metadata": {},
   "outputs": [],
   "source": [
    "kf = KFold(shuffle=True, random_state=25)"
   ]
  },
  {
   "cell_type": "code",
   "execution_count": 16,
   "id": "906abc66",
   "metadata": {},
   "outputs": [
    {
     "name": "stdout",
     "output_type": "stream",
     "text": [
      "KFold(n_splits=5, random_state=25, shuffle=True)\n"
     ]
    }
   ],
   "source": [
    "print(kf)"
   ]
  },
  {
   "cell_type": "code",
   "execution_count": 19,
   "id": "2891ba78",
   "metadata": {},
   "outputs": [
    {
     "name": "stdout",
     "output_type": "stream",
     "text": [
      "Fold 0:\n",
      "  Train: index=[ 0  1  2  3  4  5  6  8  9 10 11 12 13 15 16 18 19 20 21 22 23 24 25 26\n",
      " 27 28 29 30 31 32 35 37 38 40 42 43 44 47 48 49]\n",
      "  Test:  index=[ 7 14 17 33 34 36 39 41 45 46]\n",
      "Fold 1:\n",
      "  Train: index=[ 0  1  3  4  5  7  8  9 12 13 14 15 16 17 18 20 21 22 23 24 25 26 28 30\n",
      " 31 33 34 35 36 37 38 39 41 42 43 44 45 46 47 49]\n",
      "  Test:  index=[ 2  6 10 11 19 27 29 32 40 48]\n",
      "Fold 2:\n",
      "  Train: index=[ 1  2  3  4  5  6  7  8 10 11 14 15 16 17 19 20 22 23 24 25 26 27 28 29\n",
      " 31 32 33 34 35 36 37 38 39 40 41 44 45 46 48 49]\n",
      "  Test:  index=[ 0  9 12 13 18 21 30 42 43 47]\n",
      "Fold 3:\n",
      "  Train: index=[ 0  2  4  6  7  8  9 10 11 12 13 14 15 17 18 19 21 23 25 26 27 28 29 30\n",
      " 31 32 33 34 36 39 40 41 42 43 44 45 46 47 48 49]\n",
      "  Test:  index=[ 1  3  5 16 20 22 24 35 37 38]\n",
      "Fold 4:\n",
      "  Train: index=[ 0  1  2  3  5  6  7  9 10 11 12 13 14 16 17 18 19 20 21 22 24 27 29 30\n",
      " 32 33 34 35 36 37 38 39 40 41 42 43 45 46 47 48]\n",
      "  Test:  index=[ 4  8 15 23 25 26 28 31 44 49]\n"
     ]
    }
   ],
   "source": [
    "for i, (train_index, test_index) in enumerate(kf.split(x)):\n",
    "    print(f\"Fold {i}:\")\n",
    "    print(f\"  Train: index={train_index}\")\n",
    "    print(f\"  Test:  index={test_index}\")"
   ]
  },
  {
   "cell_type": "code",
   "execution_count": null,
   "id": "696556ae",
   "metadata": {},
   "outputs": [],
   "source": []
  },
  {
   "cell_type": "code",
   "execution_count": null,
   "id": "c63e0252",
   "metadata": {},
   "outputs": [],
   "source": []
  }
 ],
 "metadata": {
  "kernelspec": {
   "display_name": "Python 3 (ipykernel)",
   "language": "python",
   "name": "python3"
  },
  "language_info": {
   "codemirror_mode": {
    "name": "ipython",
    "version": 3
   },
   "file_extension": ".py",
   "mimetype": "text/x-python",
   "name": "python",
   "nbconvert_exporter": "python",
   "pygments_lexer": "ipython3",
   "version": "3.9.13"
  }
 },
 "nbformat": 4,
 "nbformat_minor": 5
}
