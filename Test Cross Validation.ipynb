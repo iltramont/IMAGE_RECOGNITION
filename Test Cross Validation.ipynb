{
 "cells": [
  {
   "cell_type": "code",
   "execution_count": 1,
   "id": "97af190a",
   "metadata": {},
   "outputs": [],
   "source": [
    "import numpy as np\n",
    "import pandas as pd\n",
    "from sklearn.model_selection import KFold\n",
    "from sklearn.utils import shuffle"
   ]
  },
  {
   "cell_type": "code",
   "execution_count": 15,
   "id": "00c3d28e",
   "metadata": {},
   "outputs": [],
   "source": [
    "x = np.array([(i, i**2) for i in range(20)])"
   ]
  },
  {
   "cell_type": "code",
   "execution_count": 16,
   "id": "8b9bf825",
   "metadata": {},
   "outputs": [],
   "source": [
    "y = 2*x"
   ]
  },
  {
   "cell_type": "code",
   "execution_count": 17,
   "id": "c3eb154a",
   "metadata": {},
   "outputs": [
    {
     "data": {
      "text/plain": [
       "array([[  0,   0],\n",
       "       [  1,   1],\n",
       "       [  2,   4],\n",
       "       [  3,   9],\n",
       "       [  4,  16],\n",
       "       [  5,  25],\n",
       "       [  6,  36],\n",
       "       [  7,  49],\n",
       "       [  8,  64],\n",
       "       [  9,  81],\n",
       "       [ 10, 100],\n",
       "       [ 11, 121],\n",
       "       [ 12, 144],\n",
       "       [ 13, 169],\n",
       "       [ 14, 196],\n",
       "       [ 15, 225],\n",
       "       [ 16, 256],\n",
       "       [ 17, 289],\n",
       "       [ 18, 324],\n",
       "       [ 19, 361]])"
      ]
     },
     "execution_count": 17,
     "metadata": {},
     "output_type": "execute_result"
    }
   ],
   "source": [
    "x"
   ]
  },
  {
   "cell_type": "code",
   "execution_count": 18,
   "id": "696556ae",
   "metadata": {},
   "outputs": [
    {
     "data": {
      "text/plain": [
       "array([[  0,   0],\n",
       "       [  2,   2],\n",
       "       [  4,   8],\n",
       "       [  6,  18],\n",
       "       [  8,  32],\n",
       "       [ 10,  50],\n",
       "       [ 12,  72],\n",
       "       [ 14,  98],\n",
       "       [ 16, 128],\n",
       "       [ 18, 162],\n",
       "       [ 20, 200],\n",
       "       [ 22, 242],\n",
       "       [ 24, 288],\n",
       "       [ 26, 338],\n",
       "       [ 28, 392],\n",
       "       [ 30, 450],\n",
       "       [ 32, 512],\n",
       "       [ 34, 578],\n",
       "       [ 36, 648],\n",
       "       [ 38, 722]])"
      ]
     },
     "execution_count": 18,
     "metadata": {},
     "output_type": "execute_result"
    }
   ],
   "source": [
    "y"
   ]
  },
  {
   "cell_type": "code",
   "execution_count": 19,
   "id": "c63e0252",
   "metadata": {},
   "outputs": [],
   "source": [
    "x_s, y_s = shuffle(x, y)"
   ]
  },
  {
   "cell_type": "code",
   "execution_count": 20,
   "id": "9e33fe7e",
   "metadata": {},
   "outputs": [
    {
     "name": "stdout",
     "output_type": "stream",
     "text": [
      "[ 6 36] [12 72]\n",
      "[ 11 121] [ 22 242]\n",
      "[ 9 81] [ 18 162]\n",
      "[ 16 256] [ 32 512]\n",
      "[ 13 169] [ 26 338]\n",
      "[ 5 25] [10 50]\n",
      "[ 12 144] [ 24 288]\n",
      "[ 14 196] [ 28 392]\n",
      "[ 15 225] [ 30 450]\n",
      "[ 18 324] [ 36 648]\n",
      "[0 0] [0 0]\n",
      "[2 4] [4 8]\n",
      "[ 19 361] [ 38 722]\n",
      "[ 10 100] [ 20 200]\n",
      "[3 9] [ 6 18]\n",
      "[ 7 49] [14 98]\n",
      "[ 4 16] [ 8 32]\n",
      "[ 17 289] [ 34 578]\n",
      "[1 1] [2 2]\n",
      "[ 8 64] [ 16 128]\n"
     ]
    }
   ],
   "source": [
    "for i, j in zip(x_s, y_s):\n",
    "    print(i, j)"
   ]
  },
  {
   "cell_type": "code",
   "execution_count": null,
   "id": "bfab97e9",
   "metadata": {},
   "outputs": [],
   "source": []
  }
 ],
 "metadata": {
  "kernelspec": {
   "display_name": "Python 3 (ipykernel)",
   "language": "python",
   "name": "python3"
  },
  "language_info": {
   "codemirror_mode": {
    "name": "ipython",
    "version": 3
   },
   "file_extension": ".py",
   "mimetype": "text/x-python",
   "name": "python",
   "nbconvert_exporter": "python",
   "pygments_lexer": "ipython3",
   "version": "3.9.13"
  }
 },
 "nbformat": 4,
 "nbformat_minor": 5
}
