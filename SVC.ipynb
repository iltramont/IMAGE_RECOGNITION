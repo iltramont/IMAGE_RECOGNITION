{
 "cells": [
  {
   "cell_type": "code",
   "execution_count": 1,
   "id": "e3ee27ea",
   "metadata": {},
   "outputs": [],
   "source": [
    "import os\n",
    "import numpy as np\n",
    "import pandas as pd\n",
    "import matplotlib.pyplot as plt\n",
    "import pickle\n",
    "import warnings\n",
    "\n",
    "from sklearn.preprocessing import StandardScaler\n",
    "from sklearn.model_selection import train_test_split\n",
    "from sklearn.neighbors import KNeighborsClassifier\n",
    "from sklearn.linear_model import LogisticRegression\n",
    "from sklearn.metrics import accuracy_score, confusion_matrix, ConfusionMatrixDisplay\n",
    "from sklearn.model_selection import GridSearchCV\n",
    "from sklearn.svm import SVC\n",
    "\n",
    "from skimage.io import imread, imshow, show, imshow_collection\n",
    "from skimage.transform import resize, rescale, rotate\n",
    "\n",
    "warnings.filterwarnings('ignore')"
   ]
  },
  {
   "cell_type": "markdown",
   "id": "0c8abddd",
   "metadata": {},
   "source": [
    "# Load Data"
   ]
  },
  {
   "cell_type": "code",
   "execution_count": 2,
   "id": "a454d784",
   "metadata": {},
   "outputs": [],
   "source": [
    "data_train_1 = pickle.load(open(\"data_train_flatten_batch_1.pkl\", \"rb\"))\n",
    "data_train_2 = pickle.load(open(\"data_train_flatten_batch_2.pkl\", \"rb\"))\n",
    "labels_train_1 = pickle.load(open(\"labels_train_batch_1.pkl\", \"rb\"))\n",
    "labels_train_2 = pickle.load(open(\"labels_train_batch_2.pkl\", \"rb\"))"
   ]
  },
  {
   "cell_type": "code",
   "execution_count": 3,
   "id": "249a541f",
   "metadata": {},
   "outputs": [],
   "source": [
    "data_train = np.concatenate((data_train_1, data_train_2))\n",
    "labels_train = np.concatenate((labels_train_1, labels_train_2))"
   ]
  },
  {
   "cell_type": "code",
   "execution_count": 4,
   "id": "2413c6bf",
   "metadata": {},
   "outputs": [],
   "source": [
    "data_test = pickle.load(open(\"data_test_flatten.pkl\", \"rb\"))\n",
    "labels_test = pickle.load(open(\"labels_test.pkl\", \"rb\"))"
   ]
  },
  {
   "cell_type": "markdown",
   "id": "e811de70",
   "metadata": {},
   "source": [
    "We don't need to shuffle data because are already splitted in train and test."
   ]
  },
  {
   "cell_type": "markdown",
   "id": "f15b5ee8",
   "metadata": {},
   "source": [
    "# Scale Data"
   ]
  },
  {
   "cell_type": "code",
   "execution_count": 5,
   "id": "0ca82d07",
   "metadata": {},
   "outputs": [],
   "source": [
    "scaler = StandardScaler()\n",
    "\n",
    "X_train_std = scaler.fit_transform(data_train)\n",
    "X_test_std = scaler.transform(data_test)"
   ]
  },
  {
   "cell_type": "markdown",
   "id": "796d4ec9",
   "metadata": {},
   "source": [
    "# Train Model"
   ]
  },
  {
   "cell_type": "code",
   "execution_count": null,
   "id": "67c67117",
   "metadata": {},
   "outputs": [
    {
     "name": "stdout",
     "output_type": "stream",
     "text": [
      "Fitting 5 folds for each of 12 candidates, totalling 60 fits\n",
      "[CV 1/5] END ..................C=1, gamma=0.01;, score=0.156 total time=137.9min\n",
      "[CV 2/5] END ..................C=1, gamma=0.01;, score=0.155 total time=137.2min\n",
      "[CV 3/5] END ..................C=1, gamma=0.01;, score=0.158 total time=137.4min\n",
      "[CV 4/5] END ..................C=1, gamma=0.01;, score=0.155 total time=137.8min\n",
      "[CV 5/5] END ..................C=1, gamma=0.01;, score=0.160 total time=137.8min\n"
     ]
    }
   ],
   "source": [
    "# Train model with tuning\n",
    "m = SVC()\n",
    "\n",
    "parameters = [{\n",
    "    \"gamma\": [0.01, 0.001, 0.0001],\n",
    "    \"C\": [1, 10, 100, 1000]\n",
    "}]\n",
    "\n",
    "grid_search = GridSearchCV(m, parameters, verbose=3)\n",
    "grid_search.fit(X_train_std, labels_train)\n",
    "model = grid_search.best_estimator_"
   ]
  },
  {
   "cell_type": "code",
   "execution_count": null,
   "id": "535c248b",
   "metadata": {},
   "outputs": [],
   "source": [
    "print(\"Model optimal parameters\".upper())\n",
    "print(\"gamma:\", model.get_params()[\"gamma\"])\n",
    "print(\"C\", model.get_params()[\"C\"])"
   ]
  },
  {
   "cell_type": "markdown",
   "id": "b99c07ba",
   "metadata": {},
   "source": [
    "# Test Model"
   ]
  },
  {
   "cell_type": "code",
   "execution_count": null,
   "id": "bbb5a8d1",
   "metadata": {},
   "outputs": [],
   "source": [
    "predictions = model.predict(X_test_std)\n",
    "accuracy = accuracy_score(labels_test, predictions)\n",
    "print(\"Accuracy score:\", accuracy)"
   ]
  },
  {
   "cell_type": "code",
   "execution_count": null,
   "id": "763ee84a",
   "metadata": {},
   "outputs": [],
   "source": [
    "cm = confusion_matrix(labels_test, predictions, labels=model.classes_)\n",
    "disp = ConfusionMatrixDisplay(confusion_matrix=cm, display_labels=model.classes_)\n",
    "disp.plot()"
   ]
  },
  {
   "cell_type": "markdown",
   "id": "14abdbcb",
   "metadata": {},
   "source": [
    "# Save Model"
   ]
  },
  {
   "cell_type": "code",
   "execution_count": null,
   "id": "57bad6ae",
   "metadata": {},
   "outputs": [],
   "source": [
    "model_file_name = \"SVC_32x32.pkl\"\n",
    "pickle.dump(model, open(model_file_name, \"wb\"))"
   ]
  },
  {
   "cell_type": "code",
   "execution_count": null,
   "id": "56d5bcff",
   "metadata": {},
   "outputs": [],
   "source": []
  }
 ],
 "metadata": {
  "kernelspec": {
   "display_name": "Python 3 (ipykernel)",
   "language": "python",
   "name": "python3"
  },
  "language_info": {
   "codemirror_mode": {
    "name": "ipython",
    "version": 3
   },
   "file_extension": ".py",
   "mimetype": "text/x-python",
   "name": "python",
   "nbconvert_exporter": "python",
   "pygments_lexer": "ipython3",
   "version": "3.9.13"
  }
 },
 "nbformat": 4,
 "nbformat_minor": 5
}
