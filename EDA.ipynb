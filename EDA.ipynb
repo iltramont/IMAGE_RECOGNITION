{
 "cells": [
  {
   "cell_type": "markdown",
   "id": "f626ba4f",
   "metadata": {},
   "source": [
    "# Exploratory Data Analysis"
   ]
  },
  {
   "cell_type": "code",
   "execution_count": 1,
   "id": "499e808b",
   "metadata": {},
   "outputs": [],
   "source": [
    "import os\n",
    "import numpy as np\n",
    "import pandas as pd\n",
    "\n",
    "from skimage.io import imread, imshow, show, imshow_collection\n",
    "from skimage.transform import resize, rescale, rotate"
   ]
  },
  {
   "cell_type": "code",
   "execution_count": 2,
   "id": "db5b9281",
   "metadata": {},
   "outputs": [
    {
     "name": "stdout",
     "output_type": "stream",
     "text": [
      "['airplane', 'automobile', 'bird', 'cat', 'deer', 'dog', 'frog', 'horse', 'ship', 'truck']\n",
      "Same categories in train and test: True\n"
     ]
    }
   ],
   "source": [
    "# Check categories\n",
    "print(os.listdir(\"train\"))\n",
    "\n",
    "# Check same categories in train and test directory\n",
    "print(\"Same categories in train and test:\", os.listdir(\"train\").sort() == os.listdir(\"test\").sort())\n",
    "\n",
    "# Store categories\n",
    "categories = os.listdir(\"train\")"
   ]
  },
  {
   "cell_type": "code",
   "execution_count": 3,
   "id": "8ec17ae9",
   "metadata": {},
   "outputs": [
    {
     "name": "stdout",
     "output_type": "stream",
     "text": [
      "airplane:\n",
      "train: 5000\t test: 1000\n",
      "\n",
      "automobile:\n",
      "train: 5000\t test: 1000\n",
      "\n",
      "bird:\n",
      "train: 5000\t test: 1000\n",
      "\n",
      "cat:\n",
      "train: 5000\t test: 1000\n",
      "\n",
      "deer:\n",
      "train: 5000\t test: 1000\n",
      "\n",
      "dog:\n",
      "train: 5000\t test: 1000\n",
      "\n",
      "frog:\n",
      "train: 5000\t test: 1000\n",
      "\n",
      "horse:\n",
      "train: 5000\t test: 1000\n",
      "\n",
      "ship:\n",
      "train: 5000\t test: 1000\n",
      "\n",
      "truck:\n",
      "train: 5000\t test: 1000\n",
      "\n"
     ]
    }
   ],
   "source": [
    "for cat in categories:\n",
    "    print(cat + \":\")\n",
    "    n_train = len(os.listdir(\"train/\" + cat))\n",
    "    n_test = len(os.listdir(\"test/\" + cat))\n",
    "    print(\"train: {}\\t test: {}\\n\".format(n_train, n_test))"
   ]
  },
  {
   "cell_type": "markdown",
   "id": "310ae5d9",
   "metadata": {},
   "source": [
    "We have 5000 train images and 1000 test images for each category.\n",
    "\n",
    "We know that images are 32x32x3 (RGB)."
   ]
  },
  {
   "cell_type": "code",
   "execution_count": 4,
   "id": "d8ee5f09",
   "metadata": {},
   "outputs": [],
   "source": [
    "im = imread(\"train/airplane/0050.png\")"
   ]
  },
  {
   "cell_type": "code",
   "execution_count": 5,
   "id": "a424c7be",
   "metadata": {},
   "outputs": [
    {
     "data": {
      "text/plain": [
       "3072"
      ]
     },
     "execution_count": 5,
     "metadata": {},
     "output_type": "execute_result"
    }
   ],
   "source": [
    "len(im.flatten())"
   ]
  },
  {
   "cell_type": "code",
   "execution_count": null,
   "id": "fca94796",
   "metadata": {},
   "outputs": [],
   "source": []
  }
 ],
 "metadata": {
  "kernelspec": {
   "display_name": "Python 3 (ipykernel)",
   "language": "python",
   "name": "python3"
  },
  "language_info": {
   "codemirror_mode": {
    "name": "ipython",
    "version": 3
   },
   "file_extension": ".py",
   "mimetype": "text/x-python",
   "name": "python",
   "nbconvert_exporter": "python",
   "pygments_lexer": "ipython3",
   "version": "3.9.13"
  }
 },
 "nbformat": 4,
 "nbformat_minor": 5
}
