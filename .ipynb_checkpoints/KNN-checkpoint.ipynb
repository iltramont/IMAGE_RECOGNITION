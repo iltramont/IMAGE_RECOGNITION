{
 "cells": [
  {
   "cell_type": "code",
   "execution_count": 1,
   "id": "e3ee27ea",
   "metadata": {},
   "outputs": [],
   "source": [
    "import os\n",
    "import numpy as np\n",
    "import pandas as pd\n",
    "import matplotlib.pyplot as plt\n",
    "import pickle\n",
    "import warnings\n",
    "\n",
    "from sklearn.utils import shuffle\n",
    "from sklearn.preprocessing import StandardScaler\n",
    "from sklearn.model_selection import train_test_split\n",
    "from sklearn.neighbors import KNeighborsClassifier\n",
    "from sklearn.linear_model import LogisticRegression\n",
    "from sklearn.metrics import accuracy_score, f1_score, precision_score, recall_score, confusion_matrix, ConfusionMatrixDisplay\n",
    "from sklearn.model_selection import GridSearchCV, KFold\n",
    "\n",
    "from skimage.io import imread, imshow, show, imshow_collection\n",
    "from skimage.transform import resize, rescale, rotate\n",
    "\n",
    "warnings.filterwarnings('ignore')"
   ]
  },
  {
   "cell_type": "markdown",
   "id": "0c8abddd",
   "metadata": {},
   "source": [
    "# Load Data"
   ]
  },
  {
   "cell_type": "code",
   "execution_count": 2,
   "id": "a454d784",
   "metadata": {},
   "outputs": [],
   "source": [
    "data_train_1 = pickle.load(open(\"data/data_train_flatten_batch_1.pkl\", \"rb\"))\n",
    "data_train_2 = pickle.load(open(\"data/data_train_flatten_batch_2.pkl\", \"rb\"))\n",
    "labels_train_1 = pickle.load(open(\"data/labels_train_batch_1.pkl\", \"rb\"))\n",
    "labels_train_2 = pickle.load(open(\"data/labels_train_batch_2.pkl\", \"rb\"))\n",
    "\n",
    "data_train = np.concatenate((data_train_1, data_train_2))\n",
    "labels_train = np.concatenate((labels_train_1, labels_train_2))\n",
    "\n",
    "data_test = pickle.load(open(\"data/data_test_flatten.pkl\", \"rb\"))\n",
    "labels_test = pickle.load(open(\"data/labels_test.pkl\", \"rb\"))\n",
    "\n",
    "# Shuffle train set\n",
    "data_train, labels_train = shuffle(data_train, labels_train, random_state=25)"
   ]
  },
  {
   "cell_type": "markdown",
   "id": "f15b5ee8",
   "metadata": {},
   "source": [
    "# Scale Data"
   ]
  },
  {
   "cell_type": "code",
   "execution_count": 3,
   "id": "0ca82d07",
   "metadata": {},
   "outputs": [],
   "source": [
    "scaler = StandardScaler()\n",
    "\n",
    "X_train_std = scaler.fit_transform(data_train)\n",
    "X_test_std = scaler.transform(data_test)"
   ]
  },
  {
   "cell_type": "markdown",
   "id": "796d4ec9",
   "metadata": {},
   "source": [
    "# Train Model"
   ]
  },
  {
   "cell_type": "code",
   "execution_count": null,
   "id": "67c67117",
   "metadata": {},
   "outputs": [
    {
     "name": "stdout",
     "output_type": "stream",
     "text": [
      "Fitting 5 folds for each of 44 candidates, totalling 220 fits\n"
     ]
    }
   ],
   "source": [
    "m = KNeighborsClassifier(n_jobs=4)\n",
    "\n",
    "parameters = [{\n",
    "    \"n_neighbors\": range(3, 25),\n",
    "    \"weights\": [\"uniform\", \"distance\"]\n",
    "}]\n",
    "\n",
    "grid_search = GridSearchCV(m, parameters, verbose=3, scoring=\"f1_macro\")\n",
    "grid_search.fit(X_train_std, labels_train)\n",
    "model = grid_search.best_estimator_"
   ]
  },
  {
   "cell_type": "code",
   "execution_count": null,
   "id": "535c248b",
   "metadata": {},
   "outputs": [],
   "source": [
    "print(\"Model optimal parameters\".upper())\n",
    "print(\"n_neighbors:\", model.get_params()[\"n_neighbors\"])\n",
    "print(\"weights:\", model.get_params()[\"weights\"])"
   ]
  },
  {
   "cell_type": "markdown",
   "id": "b99c07ba",
   "metadata": {},
   "source": [
    "# Test Model"
   ]
  },
  {
   "cell_type": "code",
   "execution_count": null,
   "id": "bbb5a8d1",
   "metadata": {},
   "outputs": [],
   "source": [
    "predictions = model.predict(X_test_std)\n",
    "\n",
    "accuracy = accuracy_score(labels_test, predictions)\n",
    "precision = precision_score(labels_test, predictions, average=\"macro\")\n",
    "recall = recall_score(labels_test, predictions, average=\"macro\")\n",
    "f1_macro = f1_score(labels_test, predictions, average=\"macro\")\n",
    "\n",
    "print(\"Accuracy score: {:.4f}%\\nPrecision macro: {:.4f}%\\nRecall macro: {:.4f}%\\nF1 macro: {:.4f}%\".format(accuracy*100, precision*100, recall*100, f1_macro*100))"
   ]
  },
  {
   "cell_type": "code",
   "execution_count": null,
   "id": "763ee84a",
   "metadata": {},
   "outputs": [],
   "source": [
    "cm = confusion_matrix(labels_test, predictions, labels=model.classes_)\n",
    "disp = ConfusionMatrixDisplay(confusion_matrix=cm, display_labels=model.classes_)\n",
    "disp.plot()\n",
    "plt.show()"
   ]
  },
  {
   "cell_type": "markdown",
   "id": "14abdbcb",
   "metadata": {},
   "source": [
    "# Save Model"
   ]
  },
  {
   "cell_type": "code",
   "execution_count": null,
   "id": "57bad6ae",
   "metadata": {},
   "outputs": [],
   "source": [
    "model_file_name = \"KNN_32x32.pkl\"\n",
    "pickle.dump(model, open(model_file_name, \"wb\"))"
   ]
  },
  {
   "cell_type": "markdown",
   "id": "4fcae051",
   "metadata": {},
   "source": [
    "# Black And White"
   ]
  },
  {
   "cell_type": "markdown",
   "id": "8d7baeb2",
   "metadata": {},
   "source": [
    "## Load data"
   ]
  },
  {
   "cell_type": "code",
   "execution_count": null,
   "id": "75716ca2",
   "metadata": {},
   "outputs": [],
   "source": [
    "train_batches = []\n",
    "labels_batches = []\n",
    "\n",
    "for i in [1, 2, 3, 4, 5]:\n",
    "    data_filepath = \"data/data_train_bw_flatten_batch_\" + str(i) + \".pkl\"\n",
    "    labels_filepath = \"data/labels_train_bw_batch_\" + str(i) + \".pkl\"\n",
    "    train_batches.append(pickle.load(open(data_filepath, \"rb\")))\n",
    "    labels_batches.append(pickle.load(open(labels_filepath, \"rb\")))\n",
    "    \n",
    "data_train_bw = np.concatenate(train_batches)\n",
    "labels_train_bw = np.concatenate(labels_batches)\n",
    "\n",
    "data_test_bw = pickle.load(open(\"data/data_test_bw_flatten.pkl\", \"rb\"))\n",
    "labels_test_bw = pickle.load(open(\"data/labels_test_bw.pkl\", \"rb\"))\n",
    "\n",
    "# Shuffle train set\n",
    "data_train_bw, labels_train_bw = shuffle(data_train_bw, labels_train_bw, random_state=25)"
   ]
  },
  {
   "cell_type": "markdown",
   "id": "aeebc05d",
   "metadata": {},
   "source": [
    "## Scale data"
   ]
  },
  {
   "cell_type": "code",
   "execution_count": 10,
   "id": "402465a3",
   "metadata": {},
   "outputs": [],
   "source": [
    "scaler = StandardScaler()\n",
    "\n",
    "X_train_std_bw = scaler.fit_transform(data_train_bw)\n",
    "X_test_std_bw = scaler.transform(data_test_bw)"
   ]
  },
  {
   "cell_type": "markdown",
   "id": "43e34cde",
   "metadata": {},
   "source": [
    "## Train model"
   ]
  },
  {
   "cell_type": "code",
   "execution_count": 11,
   "id": "2694f956",
   "metadata": {},
   "outputs": [
    {
     "name": "stdout",
     "output_type": "stream",
     "text": [
      "Fitting 5 folds for each of 44 candidates, totalling 220 fits\n",
      "[CV] END ...........n_jobs=4, n_neighbors=3, weights=uniform; total time=  17.3s\n",
      "[CV] END ...........n_jobs=4, n_neighbors=3, weights=uniform; total time=  17.0s\n",
      "[CV] END ...........n_jobs=4, n_neighbors=3, weights=uniform; total time=  16.9s\n",
      "[CV] END ...........n_jobs=4, n_neighbors=3, weights=uniform; total time=  16.9s\n",
      "[CV] END ...........n_jobs=4, n_neighbors=3, weights=uniform; total time=  16.8s\n",
      "[CV] END ..........n_jobs=4, n_neighbors=3, weights=distance; total time=  16.6s\n",
      "[CV] END ..........n_jobs=4, n_neighbors=3, weights=distance; total time=  16.5s\n",
      "[CV] END ..........n_jobs=4, n_neighbors=3, weights=distance; total time=  16.6s\n",
      "[CV] END ..........n_jobs=4, n_neighbors=3, weights=distance; total time=  16.4s\n",
      "[CV] END ..........n_jobs=4, n_neighbors=3, weights=distance; total time=  16.9s\n",
      "[CV] END ...........n_jobs=4, n_neighbors=4, weights=uniform; total time=  19.3s\n",
      "[CV] END ...........n_jobs=4, n_neighbors=4, weights=uniform; total time=  19.1s\n",
      "[CV] END ...........n_jobs=4, n_neighbors=4, weights=uniform; total time=  19.0s\n",
      "[CV] END ...........n_jobs=4, n_neighbors=4, weights=uniform; total time=  19.3s\n",
      "[CV] END ...........n_jobs=4, n_neighbors=4, weights=uniform; total time=  19.8s\n",
      "[CV] END ..........n_jobs=4, n_neighbors=4, weights=distance; total time=  18.8s\n",
      "[CV] END ..........n_jobs=4, n_neighbors=4, weights=distance; total time=  19.1s\n",
      "[CV] END ..........n_jobs=4, n_neighbors=4, weights=distance; total time=  18.8s\n",
      "[CV] END ..........n_jobs=4, n_neighbors=4, weights=distance; total time=  19.0s\n",
      "[CV] END ..........n_jobs=4, n_neighbors=4, weights=distance; total time=  18.9s\n",
      "[CV] END ...........n_jobs=4, n_neighbors=5, weights=uniform; total time=  19.4s\n",
      "[CV] END ...........n_jobs=4, n_neighbors=5, weights=uniform; total time=  19.1s\n",
      "[CV] END ...........n_jobs=4, n_neighbors=5, weights=uniform; total time=  18.8s\n",
      "[CV] END ...........n_jobs=4, n_neighbors=5, weights=uniform; total time=  19.5s\n",
      "[CV] END ...........n_jobs=4, n_neighbors=5, weights=uniform; total time=  19.4s\n",
      "[CV] END ..........n_jobs=4, n_neighbors=5, weights=distance; total time=  19.1s\n",
      "[CV] END ..........n_jobs=4, n_neighbors=5, weights=distance; total time=  19.1s\n",
      "[CV] END ..........n_jobs=4, n_neighbors=5, weights=distance; total time=  18.5s\n",
      "[CV] END ..........n_jobs=4, n_neighbors=5, weights=distance; total time=  18.9s\n",
      "[CV] END ..........n_jobs=4, n_neighbors=5, weights=distance; total time=  19.3s\n",
      "[CV] END ...........n_jobs=4, n_neighbors=6, weights=uniform; total time=  19.3s\n",
      "[CV] END ...........n_jobs=4, n_neighbors=6, weights=uniform; total time=  19.1s\n",
      "[CV] END ...........n_jobs=4, n_neighbors=6, weights=uniform; total time=  18.6s\n",
      "[CV] END ...........n_jobs=4, n_neighbors=6, weights=uniform; total time=  19.2s\n",
      "[CV] END ...........n_jobs=4, n_neighbors=6, weights=uniform; total time=  19.5s\n",
      "[CV] END ..........n_jobs=4, n_neighbors=6, weights=distance; total time=  18.8s\n",
      "[CV] END ..........n_jobs=4, n_neighbors=6, weights=distance; total time=  19.3s\n",
      "[CV] END ..........n_jobs=4, n_neighbors=6, weights=distance; total time=  18.2s\n",
      "[CV] END ..........n_jobs=4, n_neighbors=6, weights=distance; total time=  19.1s\n",
      "[CV] END ..........n_jobs=4, n_neighbors=6, weights=distance; total time=  19.3s\n",
      "[CV] END ...........n_jobs=4, n_neighbors=7, weights=uniform; total time=  19.3s\n",
      "[CV] END ...........n_jobs=4, n_neighbors=7, weights=uniform; total time=  19.5s\n",
      "[CV] END ...........n_jobs=4, n_neighbors=7, weights=uniform; total time=  18.7s\n",
      "[CV] END ...........n_jobs=4, n_neighbors=7, weights=uniform; total time=  19.4s\n",
      "[CV] END ...........n_jobs=4, n_neighbors=7, weights=uniform; total time=  19.6s\n",
      "[CV] END ..........n_jobs=4, n_neighbors=7, weights=distance; total time=  19.6s\n",
      "[CV] END ..........n_jobs=4, n_neighbors=7, weights=distance; total time=  19.2s\n",
      "[CV] END ..........n_jobs=4, n_neighbors=7, weights=distance; total time=  18.5s\n",
      "[CV] END ..........n_jobs=4, n_neighbors=7, weights=distance; total time=  19.0s\n",
      "[CV] END ..........n_jobs=4, n_neighbors=7, weights=distance; total time=  20.5s\n",
      "[CV] END ...........n_jobs=4, n_neighbors=8, weights=uniform; total time=  23.1s\n",
      "[CV] END ...........n_jobs=4, n_neighbors=8, weights=uniform; total time=  21.3s\n",
      "[CV] END ...........n_jobs=4, n_neighbors=8, weights=uniform; total time=  20.0s\n",
      "[CV] END ...........n_jobs=4, n_neighbors=8, weights=uniform; total time=  19.7s\n",
      "[CV] END ...........n_jobs=4, n_neighbors=8, weights=uniform; total time=  19.2s\n",
      "[CV] END ..........n_jobs=4, n_neighbors=8, weights=distance; total time=  20.2s\n",
      "[CV] END ..........n_jobs=4, n_neighbors=8, weights=distance; total time=  19.7s\n",
      "[CV] END ..........n_jobs=4, n_neighbors=8, weights=distance; total time=  19.1s\n",
      "[CV] END ..........n_jobs=4, n_neighbors=8, weights=distance; total time=  19.5s\n",
      "[CV] END ..........n_jobs=4, n_neighbors=8, weights=distance; total time=  20.2s\n",
      "[CV] END ...........n_jobs=4, n_neighbors=9, weights=uniform; total time=  20.9s\n",
      "[CV] END ...........n_jobs=4, n_neighbors=9, weights=uniform; total time=  20.0s\n",
      "[CV] END ...........n_jobs=4, n_neighbors=9, weights=uniform; total time=  19.9s\n",
      "[CV] END ...........n_jobs=4, n_neighbors=9, weights=uniform; total time=  20.0s\n",
      "[CV] END ...........n_jobs=4, n_neighbors=9, weights=uniform; total time=  19.8s\n",
      "[CV] END ..........n_jobs=4, n_neighbors=9, weights=distance; total time=  19.6s\n",
      "[CV] END ..........n_jobs=4, n_neighbors=9, weights=distance; total time=  20.7s\n",
      "[CV] END ..........n_jobs=4, n_neighbors=9, weights=distance; total time=  20.1s\n",
      "[CV] END ..........n_jobs=4, n_neighbors=9, weights=distance; total time=  19.2s\n",
      "[CV] END ..........n_jobs=4, n_neighbors=9, weights=distance; total time=  19.3s\n",
      "[CV] END ..........n_jobs=4, n_neighbors=10, weights=uniform; total time=  20.7s\n",
      "[CV] END ..........n_jobs=4, n_neighbors=10, weights=uniform; total time=  20.4s\n",
      "[CV] END ..........n_jobs=4, n_neighbors=10, weights=uniform; total time=  19.6s\n",
      "[CV] END ..........n_jobs=4, n_neighbors=10, weights=uniform; total time=  20.3s\n",
      "[CV] END ..........n_jobs=4, n_neighbors=10, weights=uniform; total time=  20.9s\n",
      "[CV] END .........n_jobs=4, n_neighbors=10, weights=distance; total time=  20.1s\n",
      "[CV] END .........n_jobs=4, n_neighbors=10, weights=distance; total time=  19.5s\n",
      "[CV] END .........n_jobs=4, n_neighbors=10, weights=distance; total time=  18.3s\n",
      "[CV] END .........n_jobs=4, n_neighbors=10, weights=distance; total time=  18.8s\n",
      "[CV] END .........n_jobs=4, n_neighbors=10, weights=distance; total time=  19.4s\n",
      "[CV] END ..........n_jobs=4, n_neighbors=11, weights=uniform; total time=  19.7s\n",
      "[CV] END ..........n_jobs=4, n_neighbors=11, weights=uniform; total time=  19.0s\n",
      "[CV] END ..........n_jobs=4, n_neighbors=11, weights=uniform; total time=  19.1s\n",
      "[CV] END ..........n_jobs=4, n_neighbors=11, weights=uniform; total time=  19.9s\n",
      "[CV] END ..........n_jobs=4, n_neighbors=11, weights=uniform; total time=  23.4s\n",
      "[CV] END .........n_jobs=4, n_neighbors=11, weights=distance; total time=  23.4s\n",
      "[CV] END .........n_jobs=4, n_neighbors=11, weights=distance; total time=  21.8s\n",
      "[CV] END .........n_jobs=4, n_neighbors=11, weights=distance; total time=  21.5s\n",
      "[CV] END .........n_jobs=4, n_neighbors=11, weights=distance; total time=  22.1s\n",
      "[CV] END .........n_jobs=4, n_neighbors=11, weights=distance; total time=  22.1s\n",
      "[CV] END ..........n_jobs=4, n_neighbors=12, weights=uniform; total time=  22.3s\n",
      "[CV] END ..........n_jobs=4, n_neighbors=12, weights=uniform; total time=  22.2s\n",
      "[CV] END ..........n_jobs=4, n_neighbors=12, weights=uniform; total time=  22.1s\n",
      "[CV] END ..........n_jobs=4, n_neighbors=12, weights=uniform; total time=  22.5s\n",
      "[CV] END ..........n_jobs=4, n_neighbors=12, weights=uniform; total time=  22.4s\n",
      "[CV] END .........n_jobs=4, n_neighbors=12, weights=distance; total time=  21.5s\n",
      "[CV] END .........n_jobs=4, n_neighbors=12, weights=distance; total time=  25.3s\n",
      "[CV] END .........n_jobs=4, n_neighbors=12, weights=distance; total time=  24.9s\n",
      "[CV] END .........n_jobs=4, n_neighbors=12, weights=distance; total time=  24.9s\n",
      "[CV] END .........n_jobs=4, n_neighbors=12, weights=distance; total time=  25.3s\n",
      "[CV] END ..........n_jobs=4, n_neighbors=13, weights=uniform; total time=  26.0s\n"
     ]
    },
    {
     "name": "stdout",
     "output_type": "stream",
     "text": [
      "[CV] END ..........n_jobs=4, n_neighbors=13, weights=uniform; total time=  26.6s\n",
      "[CV] END ..........n_jobs=4, n_neighbors=13, weights=uniform; total time=  23.8s\n",
      "[CV] END ..........n_jobs=4, n_neighbors=13, weights=uniform; total time=  22.7s\n",
      "[CV] END ..........n_jobs=4, n_neighbors=13, weights=uniform; total time=  22.1s\n",
      "[CV] END .........n_jobs=4, n_neighbors=13, weights=distance; total time=  21.4s\n",
      "[CV] END .........n_jobs=4, n_neighbors=13, weights=distance; total time=  21.3s\n",
      "[CV] END .........n_jobs=4, n_neighbors=13, weights=distance; total time=  20.6s\n",
      "[CV] END .........n_jobs=4, n_neighbors=13, weights=distance; total time=  22.0s\n",
      "[CV] END .........n_jobs=4, n_neighbors=13, weights=distance; total time=  21.7s\n",
      "[CV] END ..........n_jobs=4, n_neighbors=14, weights=uniform; total time=  21.7s\n",
      "[CV] END ..........n_jobs=4, n_neighbors=14, weights=uniform; total time=  21.8s\n",
      "[CV] END ..........n_jobs=4, n_neighbors=14, weights=uniform; total time=  21.1s\n",
      "[CV] END ..........n_jobs=4, n_neighbors=14, weights=uniform; total time=  21.3s\n",
      "[CV] END ..........n_jobs=4, n_neighbors=14, weights=uniform; total time=  21.6s\n",
      "[CV] END .........n_jobs=4, n_neighbors=14, weights=distance; total time=  21.7s\n",
      "[CV] END .........n_jobs=4, n_neighbors=14, weights=distance; total time=  21.0s\n",
      "[CV] END .........n_jobs=4, n_neighbors=14, weights=distance; total time=  20.6s\n",
      "[CV] END .........n_jobs=4, n_neighbors=14, weights=distance; total time=  21.4s\n",
      "[CV] END .........n_jobs=4, n_neighbors=14, weights=distance; total time=  21.0s\n",
      "[CV] END ..........n_jobs=4, n_neighbors=15, weights=uniform; total time=  21.3s\n",
      "[CV] END ..........n_jobs=4, n_neighbors=15, weights=uniform; total time=  21.4s\n",
      "[CV] END ..........n_jobs=4, n_neighbors=15, weights=uniform; total time=  20.4s\n",
      "[CV] END ..........n_jobs=4, n_neighbors=15, weights=uniform; total time=  20.2s\n",
      "[CV] END ..........n_jobs=4, n_neighbors=15, weights=uniform; total time=  21.1s\n",
      "[CV] END .........n_jobs=4, n_neighbors=15, weights=distance; total time=  20.6s\n",
      "[CV] END .........n_jobs=4, n_neighbors=15, weights=distance; total time=  20.5s\n",
      "[CV] END .........n_jobs=4, n_neighbors=15, weights=distance; total time=  20.1s\n",
      "[CV] END .........n_jobs=4, n_neighbors=15, weights=distance; total time=  20.7s\n",
      "[CV] END .........n_jobs=4, n_neighbors=15, weights=distance; total time=  20.5s\n",
      "[CV] END ..........n_jobs=4, n_neighbors=16, weights=uniform; total time=  20.9s\n",
      "[CV] END ..........n_jobs=4, n_neighbors=16, weights=uniform; total time=  20.8s\n",
      "[CV] END ..........n_jobs=4, n_neighbors=16, weights=uniform; total time=  20.6s\n",
      "[CV] END ..........n_jobs=4, n_neighbors=16, weights=uniform; total time=  21.3s\n",
      "[CV] END ..........n_jobs=4, n_neighbors=16, weights=uniform; total time=  20.9s\n",
      "[CV] END .........n_jobs=4, n_neighbors=16, weights=distance; total time=  20.4s\n",
      "[CV] END .........n_jobs=4, n_neighbors=16, weights=distance; total time=  20.5s\n",
      "[CV] END .........n_jobs=4, n_neighbors=16, weights=distance; total time=  19.9s\n",
      "[CV] END .........n_jobs=4, n_neighbors=16, weights=distance; total time=  20.5s\n",
      "[CV] END .........n_jobs=4, n_neighbors=16, weights=distance; total time=  20.4s\n",
      "[CV] END ..........n_jobs=4, n_neighbors=17, weights=uniform; total time=  20.8s\n",
      "[CV] END ..........n_jobs=4, n_neighbors=17, weights=uniform; total time=  21.2s\n",
      "[CV] END ..........n_jobs=4, n_neighbors=17, weights=uniform; total time=  20.4s\n",
      "[CV] END ..........n_jobs=4, n_neighbors=17, weights=uniform; total time=  20.6s\n",
      "[CV] END ..........n_jobs=4, n_neighbors=17, weights=uniform; total time=  21.1s\n",
      "[CV] END .........n_jobs=4, n_neighbors=17, weights=distance; total time=  20.3s\n",
      "[CV] END .........n_jobs=4, n_neighbors=17, weights=distance; total time=  20.5s\n",
      "[CV] END .........n_jobs=4, n_neighbors=17, weights=distance; total time=  20.0s\n",
      "[CV] END .........n_jobs=4, n_neighbors=17, weights=distance; total time=  20.3s\n",
      "[CV] END .........n_jobs=4, n_neighbors=17, weights=distance; total time=  20.2s\n",
      "[CV] END ..........n_jobs=4, n_neighbors=18, weights=uniform; total time=  20.7s\n",
      "[CV] END ..........n_jobs=4, n_neighbors=18, weights=uniform; total time=  20.5s\n",
      "[CV] END ..........n_jobs=4, n_neighbors=18, weights=uniform; total time=  20.2s\n",
      "[CV] END ..........n_jobs=4, n_neighbors=18, weights=uniform; total time=  20.2s\n",
      "[CV] END ..........n_jobs=4, n_neighbors=18, weights=uniform; total time=  20.6s\n",
      "[CV] END .........n_jobs=4, n_neighbors=18, weights=distance; total time=  20.6s\n",
      "[CV] END .........n_jobs=4, n_neighbors=18, weights=distance; total time=  20.4s\n",
      "[CV] END .........n_jobs=4, n_neighbors=18, weights=distance; total time=  20.3s\n",
      "[CV] END .........n_jobs=4, n_neighbors=18, weights=distance; total time=  20.2s\n",
      "[CV] END .........n_jobs=4, n_neighbors=18, weights=distance; total time=  21.4s\n",
      "[CV] END ..........n_jobs=4, n_neighbors=19, weights=uniform; total time=  21.0s\n",
      "[CV] END ..........n_jobs=4, n_neighbors=19, weights=uniform; total time=  21.0s\n",
      "[CV] END ..........n_jobs=4, n_neighbors=19, weights=uniform; total time=  19.9s\n",
      "[CV] END ..........n_jobs=4, n_neighbors=19, weights=uniform; total time=  20.9s\n",
      "[CV] END ..........n_jobs=4, n_neighbors=19, weights=uniform; total time=  20.3s\n",
      "[CV] END .........n_jobs=4, n_neighbors=19, weights=distance; total time=  21.0s\n",
      "[CV] END .........n_jobs=4, n_neighbors=19, weights=distance; total time=  20.3s\n",
      "[CV] END .........n_jobs=4, n_neighbors=19, weights=distance; total time=  19.9s\n",
      "[CV] END .........n_jobs=4, n_neighbors=19, weights=distance; total time=  20.3s\n",
      "[CV] END .........n_jobs=4, n_neighbors=19, weights=distance; total time=  20.9s\n",
      "[CV] END ..........n_jobs=4, n_neighbors=20, weights=uniform; total time=  20.8s\n",
      "[CV] END ..........n_jobs=4, n_neighbors=20, weights=uniform; total time=  20.6s\n",
      "[CV] END ..........n_jobs=4, n_neighbors=20, weights=uniform; total time=  20.5s\n",
      "[CV] END ..........n_jobs=4, n_neighbors=20, weights=uniform; total time=  21.4s\n",
      "[CV] END ..........n_jobs=4, n_neighbors=20, weights=uniform; total time=  20.9s\n",
      "[CV] END .........n_jobs=4, n_neighbors=20, weights=distance; total time=  20.5s\n",
      "[CV] END .........n_jobs=4, n_neighbors=20, weights=distance; total time=  21.0s\n",
      "[CV] END .........n_jobs=4, n_neighbors=20, weights=distance; total time=  19.8s\n",
      "[CV] END .........n_jobs=4, n_neighbors=20, weights=distance; total time=  20.4s\n",
      "[CV] END .........n_jobs=4, n_neighbors=20, weights=distance; total time=  20.6s\n",
      "[CV] END ..........n_jobs=4, n_neighbors=21, weights=uniform; total time=  20.7s\n",
      "[CV] END ..........n_jobs=4, n_neighbors=21, weights=uniform; total time=  20.6s\n",
      "[CV] END ..........n_jobs=4, n_neighbors=21, weights=uniform; total time=  20.5s\n",
      "[CV] END ..........n_jobs=4, n_neighbors=21, weights=uniform; total time=  20.7s\n",
      "[CV] END ..........n_jobs=4, n_neighbors=21, weights=uniform; total time=  21.1s\n",
      "[CV] END .........n_jobs=4, n_neighbors=21, weights=distance; total time=  20.9s\n",
      "[CV] END .........n_jobs=4, n_neighbors=21, weights=distance; total time=  20.3s\n",
      "[CV] END .........n_jobs=4, n_neighbors=21, weights=distance; total time=  20.2s\n",
      "[CV] END .........n_jobs=4, n_neighbors=21, weights=distance; total time=  20.3s\n",
      "[CV] END .........n_jobs=4, n_neighbors=21, weights=distance; total time=  20.4s\n",
      "[CV] END ..........n_jobs=4, n_neighbors=22, weights=uniform; total time=  21.3s\n",
      "[CV] END ..........n_jobs=4, n_neighbors=22, weights=uniform; total time=  20.5s\n",
      "[CV] END ..........n_jobs=4, n_neighbors=22, weights=uniform; total time=  20.4s\n",
      "[CV] END ..........n_jobs=4, n_neighbors=22, weights=uniform; total time=  20.6s\n",
      "[CV] END ..........n_jobs=4, n_neighbors=22, weights=uniform; total time=  20.5s\n",
      "[CV] END .........n_jobs=4, n_neighbors=22, weights=distance; total time=  20.6s\n",
      "[CV] END .........n_jobs=4, n_neighbors=22, weights=distance; total time=  20.6s\n",
      "[CV] END .........n_jobs=4, n_neighbors=22, weights=distance; total time=  20.3s\n",
      "[CV] END .........n_jobs=4, n_neighbors=22, weights=distance; total time=  20.5s\n",
      "[CV] END .........n_jobs=4, n_neighbors=22, weights=distance; total time=  20.4s\n",
      "[CV] END ..........n_jobs=4, n_neighbors=23, weights=uniform; total time=  20.5s\n",
      "[CV] END ..........n_jobs=4, n_neighbors=23, weights=uniform; total time=  21.0s\n",
      "[CV] END ..........n_jobs=4, n_neighbors=23, weights=uniform; total time=  20.1s\n"
     ]
    },
    {
     "name": "stdout",
     "output_type": "stream",
     "text": [
      "[CV] END ..........n_jobs=4, n_neighbors=23, weights=uniform; total time=  20.4s\n",
      "[CV] END ..........n_jobs=4, n_neighbors=23, weights=uniform; total time=  21.0s\n",
      "[CV] END .........n_jobs=4, n_neighbors=23, weights=distance; total time=  20.9s\n",
      "[CV] END .........n_jobs=4, n_neighbors=23, weights=distance; total time=  19.9s\n",
      "[CV] END .........n_jobs=4, n_neighbors=23, weights=distance; total time=  19.9s\n",
      "[CV] END .........n_jobs=4, n_neighbors=23, weights=distance; total time=  20.7s\n",
      "[CV] END .........n_jobs=4, n_neighbors=23, weights=distance; total time=  20.3s\n",
      "[CV] END ..........n_jobs=4, n_neighbors=24, weights=uniform; total time=  20.4s\n",
      "[CV] END ..........n_jobs=4, n_neighbors=24, weights=uniform; total time=  21.0s\n",
      "[CV] END ..........n_jobs=4, n_neighbors=24, weights=uniform; total time=  20.2s\n",
      "[CV] END ..........n_jobs=4, n_neighbors=24, weights=uniform; total time=  20.5s\n",
      "[CV] END ..........n_jobs=4, n_neighbors=24, weights=uniform; total time=  20.8s\n",
      "[CV] END .........n_jobs=4, n_neighbors=24, weights=distance; total time=  20.8s\n",
      "[CV] END .........n_jobs=4, n_neighbors=24, weights=distance; total time=  20.7s\n",
      "[CV] END .........n_jobs=4, n_neighbors=24, weights=distance; total time=  20.3s\n",
      "[CV] END .........n_jobs=4, n_neighbors=24, weights=distance; total time=  20.6s\n",
      "[CV] END .........n_jobs=4, n_neighbors=24, weights=distance; total time=  20.6s\n"
     ]
    }
   ],
   "source": [
    "m = KNeighborsClassifier(n_jobs=4)\n",
    "\n",
    "parameters = [{\n",
    "    \"n_neighbors\": range(3, 25),\n",
    "    \"weights\": [\"uniform\", \"distance\"]\n",
    "}]\n",
    "\n",
    "grid_search = GridSearchCV(m, parameters, verbose=3, scoring=\"f1_macro\")\n",
    "grid_search.fit(X_train_std_bw, labels_train_bw)\n",
    "model_bw = grid_search.best_estimator_"
   ]
  },
  {
   "cell_type": "code",
   "execution_count": 12,
   "id": "3c18624d",
   "metadata": {},
   "outputs": [
    {
     "name": "stdout",
     "output_type": "stream",
     "text": [
      "MODEL OPTIMAL PARAMETERS\n",
      "n_neighbors: 4\n",
      "weights: distance\n"
     ]
    }
   ],
   "source": [
    "print(\"Model optimal parameters\".upper())\n",
    "print(\"n_neighbors:\", model_bw.get_params()[\"n_neighbors\"])\n",
    "print(\"weights:\", model_bw.get_params()[\"weights\"])"
   ]
  },
  {
   "cell_type": "markdown",
   "id": "e3fc4d92",
   "metadata": {},
   "source": [
    "## Test model"
   ]
  },
  {
   "cell_type": "code",
   "execution_count": 13,
   "id": "e1313b3c",
   "metadata": {},
   "outputs": [
    {
     "name": "stdout",
     "output_type": "stream",
     "text": [
      "Accuracy score: 0.3116\n"
     ]
    }
   ],
   "source": [
    "predictions_bw = model_bw.predict(X_test_std_bw)\n",
    "\n",
    "accuracy_bw = accuracy_score(labels_test_bw, predictions_bw)\n",
    "precision_bw = precision_score(labels_test_bw, predictions_bw, average=\"macro\")\n",
    "recall_bw = recall_score(labels_test_bw, predictions_bw, average=\"macro\")\n",
    "f1_macro_bw = f1_score(labels_test_bw, predictions_bw, average=\"macro\")\n",
    "\n",
    "print(\"Accuracy score: {:.4f}%\\nPrecision macro: {:.4f}%\\nRecall macro: {:.4f}%\\nF1 macro: {:.4f}%\".format(accuracy_bw*100, precision_bw*100, recall_bw*100, f1_macro_bw*100))"
   ]
  },
  {
   "cell_type": "code",
   "execution_count": 14,
   "id": "68b5eb3c",
   "metadata": {},
   "outputs": [
    {
     "data": {
      "text/plain": [
       "<sklearn.metrics._plot.confusion_matrix.ConfusionMatrixDisplay at 0x13057d15310>"
      ]
     },
     "execution_count": 14,
     "metadata": {},
     "output_type": "execute_result"
    },
    {
     "data": {
      "image/png": "[encoded data removed]",
      "text/plain": [
       "<Figure size 640x480 with 2 Axes>"
      ]
     },
     "metadata": {},
     "output_type": "display_data"
    }
   ],
   "source": [
    "cm = confusion_matrix(labels_test_bw, predictions_bw, labels=model_bw.classes_)\n",
    "disp = ConfusionMatrixDisplay(confusion_matrix=cm, display_labels=model_bw.classes_)\n",
    "disp.plot()"
   ]
  },
  {
   "cell_type": "markdown",
   "id": "87a9e1a6",
   "metadata": {},
   "source": [
    "## Save model"
   ]
  },
  {
   "cell_type": "code",
   "execution_count": 15,
   "id": "a56dc284",
   "metadata": {},
   "outputs": [],
   "source": [
    "model_file_name_bw = \"KNN_32x32_bw.pkl\"\n",
    "pickle.dump(model_bw, open(model_file_name_bw, \"wb\"))"
   ]
  },
  {
   "cell_type": "code",
   "execution_count": null,
   "id": "547a4f88",
   "metadata": {},
   "outputs": [],
   "source": []
  }
 ],
 "metadata": {
  "kernelspec": {
   "display_name": "Python 3 (ipykernel)",
   "language": "python",
   "name": "python3"
  },
  "language_info": {
   "codemirror_mode": {
    "name": "ipython",
    "version": 3
   },
   "file_extension": ".py",
   "mimetype": "text/x-python",
   "name": "python",
   "nbconvert_exporter": "python",
   "pygments_lexer": "ipython3",
   "version": "3.9.13"
  }
 },
 "nbformat": 4,
 "nbformat_minor": 5
}
